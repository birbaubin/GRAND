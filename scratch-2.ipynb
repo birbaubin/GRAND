{
 "cells": [
  {
   "cell_type": "code",
   "execution_count": 4,
   "metadata": {},
   "outputs": [],
   "source": [
    "\n",
    "\n",
    "import numpy as np\n",
    "import importlib\n",
    "from helpers.Graph import Graph\n",
    "from helpers.helpers import *\n",
    "import pandas as pd\n",
    "import random\n",
    "from tqdm import tqdm\n",
    "\n",
    "%load_ext autoreload\n",
    "%autoreload 2"
   ]
  },
  {
   "cell_type": "code",
   "execution_count": 13,
   "metadata": {},
   "outputs": [],
   "source": [
    "dataset_name = \"netscience\"\n",
    "G = Graph.from_txt(f'datasets/{dataset_name}.txt')\n",
    "Gsquare = np.dot(G.adj_matrix, G.adj_matrix)\n",
    "G1, G2 = G.split_dataset(graph1_prop=0.0)\n"
   ]
  },
  {
   "cell_type": "code",
   "execution_count": 16,
   "metadata": {},
   "outputs": [
    {
     "name": "stderr",
     "output_type": "stream",
     "text": [
      "100%|██████████| 379/379 [00:01<00:00, 233.99it/s]"
     ]
    },
    {
     "name": "stdout",
     "output_type": "stream",
     "text": [
      "Number of errors :  379.99999999999994\n"
     ]
    },
    {
     "name": "stderr",
     "output_type": "stream",
     "text": [
      "\n"
     ]
    }
   ],
   "source": [
    "def GRAND(A, Gstar, threshold):\n",
    "    M_star = np.zeros_like(Gstar.adj_matrix)\n",
    "    U_A, S_A, V_A = np.linalg.svd(A, compute_uv=True)\n",
    "\n",
    "    Gstar_edges = np.argwhere(Gstar.adj_matrix == 1)\n",
    "    number_of_edges = np.sum(np.diag(A))\n",
    "\n",
    "\n",
    "    for i in tqdm(range(S_A.shape[0])):\n",
    "\n",
    "\n",
    "        S_Gi_plus = np.sqrt(S_A[i])\n",
    "        S_Gi_minus =  - np.sqrt(S_A[i])\n",
    "\n",
    "        M_star_plus = M_star + U_A[:, i].reshape(-1, 1) * S_Gi_plus * V_A[i, :].reshape(1, -1)\n",
    "        M_star_minus = M_star + U_A[:, i].reshape(-1, 1) * S_Gi_minus * V_A[i, :].reshape(1, -1)\n",
    "\n",
    "        binary_M_star_plus = np.where(M_star_plus >= threshold, 1, 0)\n",
    "        binary_M_star_minus = np.where(M_star_minus >= threshold, 1, 0)\n",
    "\n",
    "        Gstar_edges = np.argwhere(Gstar.adj_matrix == 1)\n",
    "        Gstar_non_edges = np.argwhere(Gstar.adj_matrix == 0)\n",
    "\n",
    "        distance_plus_M_G = np.linalg.norm(M_star_plus[Gstar_edges[:, 0], Gstar_edges[:, 1]] - Gstar.adj_matrix[Gstar_edges[:, 0], Gstar_edges[:, 1]])\n",
    "        distance_minus_M_G = np.linalg.norm(M_star_minus[Gstar_edges[:, 0], Gstar_edges[:, 1]] - Gstar.adj_matrix[Gstar_edges[:, 0], Gstar_edges[:, 1]])\n",
    "\n",
    "        # distance_plus_M_G += np.linalg.norm(M_star_plus[Gstar_non_edges[:, 0], Gstar_non_edges[:, 1]])\n",
    "        # distance_minus_M_G += np.linalg.norm(M_star_minus[Gstar_non_edges[:, 0], Gstar_non_edges[:, 1]])\n",
    "\n",
    "        distance_plus_M_binary = np.linalg.norm(M_star_plus - binary_M_star_plus, ord='fro')\n",
    "        distance_minus_M_binary = np.linalg.norm(M_star_minus - binary_M_star_minus, ord='fro')\n",
    "\n",
    "\n",
    "        distance_plus = distance_plus_M_G + distance_plus_M_binary #+ distance_plus_M_non_edges\n",
    "        distance_minus = distance_minus_M_G + distance_minus_M_binary #+ distance_minus_M_non_edges\n",
    "\n",
    "        if distance_plus < distance_minus:\n",
    "            M_star = M_star_plus\n",
    "        else:\n",
    "            M_star = M_star_minus\n",
    "\n",
    "    M_star = np.where(M_star >= threshold, 1, 0)\n",
    "\n",
    "    for edge in Gstar_edges:\n",
    "        M_star[edge[0], edge[1]] = 1\n",
    "\n",
    "    return M_star\n",
    "\n",
    "M_star = GRAND(Gsquare, G1, 0.5)\n",
    "M_star_G = Graph.from_adj_matrix(M_star)\n",
    "print(\"Number of errors : \", np.linalg.norm(G.adj_matrix - M_star) ** 2)\n",
    "\n"
   ]
  },
  {
   "cell_type": "code",
   "execution_count": 3,
   "metadata": {},
   "outputs": [
    {
     "name": "stdout",
     "output_type": "stream",
     "text": [
      "516\n"
     ]
    }
   ],
   "source": [
    "from helpers.Graph import Graph\n",
    "\n",
    "bio = Graph.from_txt('datasets/bio-diseasome.txt')\n",
    "print(len(bio.nodes))"
   ]
  },
  {
   "cell_type": "code",
   "execution_count": null,
   "metadata": {},
   "outputs": [],
   "source": [
    "m1 = np.array([[0, 1, 0, 1, 0, 1, 0, 1, 0, 0],\n",
    "                    [1, 0, 1, 1, 1, 0, 0, 0, 0, 0],\n",
    "                    [0, 1, 0, 0, 1, 0, 1, 0, 0, 1],\n",
    "                    [1, 1, 0, 0, 0, 1, 0, 1, 0, 0],\n",
    "                    [0, 1, 1, 0, 0, 0, 1, 0, 0, 1],\n",
    "                    [1, 0, 0, 1, 0, 0, 0, 0, 1, 1],\n",
    "                    [0, 0, 1, 0, 1, 0, 0, 1, 1, 0],\n",
    "                    [1, 0, 0, 1, 0, 0, 1, 0, 1, 0],\n",
    "                    [0, 0, 0, 0, 0, 1, 1, 1, 0, 1],\n",
    "                    [0, 0, 1, 0, 1, 1, 0, 0, 1, 0]])\n",
    "\n",
    "\n",
    "m2 = np.array([[0, 1, 0, 1, 0, 0, 1, 1, 0, 0],\n",
    "                    [1, 0, 1, 1, 1, 0, 0, 0, 0, 0],\n",
    "                    [0, 1, 0, 0, 1, 1, 0, 0, 0, 1],\n",
    "                    [1, 1, 0, 0, 0, 1, 0, 1, 0, 0],\n",
    "                    [0, 1, 1, 0, 0, 0, 1, 0, 0, 1],\n",
    "                    [0, 0, 1, 1, 0, 0, 0, 1, 1, 0],\n",
    "                    [1, 0, 0, 0, 1, 0, 0, 0, 1, 1],\n",
    "                    [1, 0, 0, 1, 0, 1, 0, 0, 1, 0],\n",
    "                    [0, 0, 0, 0, 0, 1, 1, 1, 0, 1],\n",
    "                    [0, 0, 1, 0, 1, 0, 1, 0, 1, 0]])\n"
   ]
  }
 ],
 "metadata": {
  "kernelspec": {
   "display_name": "Python 3",
   "language": "python",
   "name": "python3"
  },
  "language_info": {
   "codemirror_mode": {
    "name": "ipython",
    "version": 3
   },
   "file_extension": ".py",
   "mimetype": "text/x-python",
   "name": "python",
   "nbconvert_exporter": "python",
   "pygments_lexer": "ipython3",
   "version": "3.9.19"
  }
 },
 "nbformat": 4,
 "nbformat_minor": 2
}
