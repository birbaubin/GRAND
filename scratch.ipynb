{
 "cells": [
  {
   "cell_type": "markdown",
   "metadata": {},
   "source": [
    "# Scratch code for testing purposes and small experiments. \n"
   ]
  },
  {
   "cell_type": "code",
   "execution_count": 1,
   "metadata": {},
   "outputs": [],
   "source": [
    "\n",
    "import numpy as np\n",
    "import importlib\n",
    "from Graph import Graph\n",
    "from helpers import *\n",
    "import pandas as pd\n",
    "import random\n",
    "from tqdm import tqdm\n",
    "from deterministic_attack import DeterministicAttack\n",
    "from revisited_spectral import RevisitedSpectral\n",
    "from erdos import SpectralAttack\n",
    "\n",
    "\n",
    "%load_ext autoreload\n",
    "%autoreload 2"
   ]
  },
  {
   "cell_type": "markdown",
   "metadata": {},
   "source": [
    "# Exploring the spectral approach"
   ]
  },
  {
   "cell_type": "code",
   "execution_count": 2,
   "metadata": {},
   "outputs": [],
   "source": [
    "dataset = \"netscience\"\n",
    "G = Graph.from_txt(f\"datasets/{dataset}.txt\")\n",
    "G1, G2 = G.split_dataset(common_prop=0.0, graph1_prop=0.0)\n",
    "A = np.dot(G.adj_matrix, G.adj_matrix.T)"
   ]
  },
  {
   "cell_type": "markdown",
   "metadata": {},
   "source": [
    "## Deterministic -> Heuristic -> Deterministic "
   ]
  },
  {
   "cell_type": "code",
   "execution_count": 3,
   "metadata": {},
   "outputs": [
    {
     "name": "stderr",
     "output_type": "stream",
     "text": [
      "Degree attack: 100%|██████████| 379/379 [00:00<00:00, 13225.30it/s]\n",
      "Matching attacks: 100%|██████████| 379/379 [00:00<00:00, 851.77it/s]\n",
      "Completion attacks: 100%|██████████| 379/379 [00:00<00:00, 936.85it/s] \n",
      "Rectangle attack:: 100%|██████████| 10/10 [00:00<00:00, 7787.42it/s]\n",
      "Triangle attack: 100%|██████████| 90/90 [00:00<00:00, 18359.39it/s]\n"
     ]
    },
    {
     "name": "stdout",
     "output_type": "stream",
     "text": [
      "+-------------------------------+-------+\n",
      "|              Stat             | Value |\n",
      "+-------------------------------+-------+\n",
      "|   Number of impossible edges  |  3051 |\n",
      "| Number of reconstructed edges |   90  |\n",
      "|    Number of unknown edges    | 68869 |\n",
      "+-------------------------------+-------+ \n",
      "\n"
     ]
    },
    {
     "name": "stderr",
     "output_type": "stream",
     "text": [
      "Matching attacks: 100%|██████████| 379/379 [00:00<00:00, 823.09it/s]\n",
      "Completion attacks: 100%|██████████| 379/379 [00:00<00:00, 792.26it/s]\n",
      "Rectangle attack:: 100%|██████████| 10/10 [00:00<00:00, 12822.70it/s]\n",
      "Triangle attack: 100%|██████████| 90/90 [00:00<00:00, 17001.64it/s]\n"
     ]
    },
    {
     "name": "stdout",
     "output_type": "stream",
     "text": [
      "+-------------------------------+-------+\n",
      "|              Stat             | Value |\n",
      "+-------------------------------+-------+\n",
      "|   Number of impossible edges  | 22548 |\n",
      "| Number of reconstructed edges |   90  |\n",
      "|    Number of unknown edges    | 49372 |\n",
      "+-------------------------------+-------+ \n",
      "\n"
     ]
    },
    {
     "name": "stderr",
     "output_type": "stream",
     "text": [
      "Matching attacks: 100%|██████████| 379/379 [00:00<00:00, 824.12it/s]\n",
      "Completion attacks: 100%|██████████| 379/379 [00:00<00:00, 911.63it/s]\n",
      "Rectangle attack:: 100%|██████████| 10/10 [00:00<00:00, 12063.00it/s]\n",
      "Triangle attack: 100%|██████████| 90/90 [00:00<00:00, 21231.01it/s]\n"
     ]
    },
    {
     "name": "stdout",
     "output_type": "stream",
     "text": [
      "+-------------------------------+-------+\n",
      "|              Stat             | Value |\n",
      "+-------------------------------+-------+\n",
      "|   Number of impossible edges  | 22548 |\n",
      "| Number of reconstructed edges |   90  |\n",
      "|    Number of unknown edges    | 49372 |\n",
      "+-------------------------------+-------+ \n",
      "\n"
     ]
    },
    {
     "name": "stderr",
     "output_type": "stream",
     "text": [
      "Revisited spectral attack: 100%|██████████| 379/379 [00:01<00:00, 357.21it/s]\n"
     ]
    },
    {
     "name": "stdout",
     "output_type": "stream",
     "text": [
      "Errors after revisited: 14\n",
      "Before sanity check: (907, 0, 71096, 7)\n",
      "Updated 19180 edges in G*\n",
      "After sanity check: (807, 0, 65482, 0)\n"
     ]
    },
    {
     "name": "stderr",
     "output_type": "stream",
     "text": [
      "Degree attack: 100%|██████████| 379/379 [00:00<00:00, 13093.81it/s]\n",
      "Matching attacks: 100%|██████████| 379/379 [00:00<00:00, 550.77it/s]\n",
      "Completion attacks: 100%|██████████| 379/379 [00:00<00:00, 1010.16it/s]\n",
      "Rectangle attack:: 100%|██████████| 10/10 [00:00<00:00, 818.98it/s]\n",
      "Triangle attack: 100%|██████████| 837/837 [00:00<00:00, 32423.00it/s]\n"
     ]
    },
    {
     "name": "stdout",
     "output_type": "stream",
     "text": [
      "+-------------------------------+-------+\n",
      "|              Stat             | Value |\n",
      "+-------------------------------+-------+\n",
      "|   Number of impossible edges  | 70524 |\n",
      "| Number of reconstructed edges |  837  |\n",
      "|    Number of unknown edges    |  649  |\n",
      "+-------------------------------+-------+ \n",
      "\n"
     ]
    },
    {
     "name": "stderr",
     "output_type": "stream",
     "text": [
      "Matching attacks: 100%|██████████| 379/379 [00:00<00:00, 596.03it/s]\n",
      "Completion attacks: 100%|██████████| 379/379 [00:00<00:00, 1012.42it/s]\n",
      "Rectangle attack:: 100%|██████████| 10/10 [00:00<00:00, 237.89it/s]\n",
      "Triangle attack: 100%|██████████| 898/898 [00:00<00:00, 31704.42it/s]\n"
     ]
    },
    {
     "name": "stdout",
     "output_type": "stream",
     "text": [
      "+-------------------------------+-------+\n",
      "|              Stat             | Value |\n",
      "+-------------------------------+-------+\n",
      "|   Number of impossible edges  | 70684 |\n",
      "| Number of reconstructed edges |  898  |\n",
      "|    Number of unknown edges    |  428  |\n",
      "+-------------------------------+-------+ \n",
      "\n"
     ]
    },
    {
     "name": "stderr",
     "output_type": "stream",
     "text": [
      "Matching attacks: 100%|██████████| 379/379 [00:00<00:00, 550.39it/s]\n",
      "Completion attacks: 100%|██████████| 379/379 [00:00<00:00, 999.64it/s]\n",
      "Rectangle attack:: 100%|██████████| 10/10 [00:00<00:00, 716.09it/s]\n",
      "Triangle attack: 100%|██████████| 908/908 [00:00<00:00, 32367.53it/s]\n"
     ]
    },
    {
     "name": "stdout",
     "output_type": "stream",
     "text": [
      "+-------------------------------+-------+\n",
      "|              Stat             | Value |\n",
      "+-------------------------------+-------+\n",
      "|   Number of impossible edges  | 71068 |\n",
      "| Number of reconstructed edges |  908  |\n",
      "|    Number of unknown edges    |   34  |\n",
      "+-------------------------------+-------+ \n",
      "\n"
     ]
    },
    {
     "name": "stderr",
     "output_type": "stream",
     "text": [
      "Matching attacks: 100%|██████████| 379/379 [00:00<00:00, 572.10it/s]\n",
      "Completion attacks: 100%|██████████| 379/379 [00:00<00:00, 1032.85it/s]\n",
      "Rectangle attack:: 100%|██████████| 10/10 [00:00<00:00, 247.69it/s]\n",
      "Triangle attack: 100%|██████████| 908/908 [00:00<00:00, 33436.30it/s]\n"
     ]
    },
    {
     "name": "stdout",
     "output_type": "stream",
     "text": [
      "+-------------------------------+-------+\n",
      "|              Stat             | Value |\n",
      "+-------------------------------+-------+\n",
      "|   Number of impossible edges  | 71084 |\n",
      "| Number of reconstructed edges |  908  |\n",
      "|    Number of unknown edges    |   18  |\n",
      "+-------------------------------+-------+ \n",
      "\n"
     ]
    },
    {
     "name": "stderr",
     "output_type": "stream",
     "text": [
      "Matching attacks: 100%|██████████| 379/379 [00:00<00:00, 570.98it/s]\n",
      "Completion attacks: 100%|██████████| 379/379 [00:00<00:00, 987.14it/s]\n",
      "Rectangle attack:: 100%|██████████| 10/10 [00:00<00:00, 689.57it/s]\n",
      "Triangle attack: 100%|██████████| 908/908 [00:00<00:00, 32114.24it/s]"
     ]
    },
    {
     "name": "stdout",
     "output_type": "stream",
     "text": [
      "+-------------------------------+-------+\n",
      "|              Stat             | Value |\n",
      "+-------------------------------+-------+\n",
      "|   Number of impossible edges  | 71084 |\n",
      "| Number of reconstructed edges |  908  |\n",
      "|    Number of unknown edges    |   18  |\n",
      "+-------------------------------+-------+ \n",
      "\n",
      "Errors : 12\n"
     ]
    },
    {
     "name": "stderr",
     "output_type": "stream",
     "text": [
      "\n"
     ]
    }
   ],
   "source": [
    "deter = DeterministicAttack(G1, A)\n",
    "deter.run()\n",
    "Gstar = deter.get_reconstructed_graph()\n",
    "known_edges = Gstar.edges()\n",
    "proba = RevisitedSpectral(Gstar, A)\n",
    "n_nodes = Gstar.adj_matrix.shape[0]\n",
    "proba.run(alpha=0.75, beta=0.25, gamma=0)\n",
    "Gstar = proba.get_reconstructed_graph()\n",
    "print(\"Errors after revisited:\", np.sum(np.abs(Gstar.adj_matrix - G.adj_matrix)))\n",
    "stats = ROC_stats(Gstar, G)\n",
    "print(\"Before sanity check:\", stats)\n",
    "forgotten_slots = proba.sanity_check_with_high_loss()\n",
    "Gstar = proba.get_reconstructed_graph()\n",
    "stats = ROC_stats(Gstar, G)\n",
    "print(\"After sanity check:\", stats)\n",
    "\n",
    "deter = DeterministicAttack(Gstar, A)\n",
    "deter.run()\n",
    "Gstar = deter.get_reconstructed_graph()\n",
    "Gstar_fixed = Gstar.copy()\n",
    "Gstar_fixed.fix_edges()\n",
    "print(\"Errors :\", np.sum(np.abs(Gstar_fixed.adj_matrix - G.adj_matrix)))\n",
    "\n",
    "\n"
   ]
  },
  {
   "cell_type": "markdown",
   "metadata": {},
   "source": [
    "## Erdos method"
   ]
  },
  {
   "cell_type": "code",
   "execution_count": 4,
   "metadata": {},
   "outputs": [
    {
     "name": "stderr",
     "output_type": "stream",
     "text": [
      "100%|██████████| 379/379 [00:00<00:00, 801.86it/s]"
     ]
    },
    {
     "name": "stdout",
     "output_type": "stream",
     "text": [
      "Errors after erdos: 374\n"
     ]
    },
    {
     "name": "stderr",
     "output_type": "stream",
     "text": [
      "\n"
     ]
    }
   ],
   "source": [
    "proba = SpectralAttack(A)\n",
    "proba.run()\n",
    "Gstar = proba.get_reconstructed_graph()\n",
    "print(\"Errors after erdos:\", np.sum(np.abs(Gstar.adj_matrix - G.adj_matrix)))"
   ]
  },
  {
   "cell_type": "markdown",
   "metadata": {},
   "source": [
    "## Analysis "
   ]
  },
  {
   "cell_type": "code",
   "execution_count": 11,
   "metadata": {},
   "outputs": [
    {
     "name": "stdout",
     "output_type": "stream",
     "text": [
      " --- Hub ----: 69\n",
      "Node : 327, degree in A : 3, degree in A_prime : 2\n",
      "Node : 328, degree in A : 3, degree in A_prime : 2\n",
      "Node : 377, degree in A : 3, degree in A_prime : 2\n",
      "Node : 378, degree in A : 3, degree in A_prime : 2\n",
      " --- Hub ----: 302\n",
      "Node : 327, degree in A : 3, degree in A_prime : 2\n",
      "Node : 328, degree in A : 3, degree in A_prime : 2\n",
      "Node : 377, degree in A : 3, degree in A_prime : 2\n",
      "Node : 378, degree in A : 3, degree in A_prime : 2\n",
      " --- Hub ----: 22\n",
      "Node : 226, degree in A : 2, degree in A_prime : 1\n",
      "Node : 227, degree in A : 2, degree in A_prime : 1\n",
      "Node : 53, degree in A : 2, degree in A_prime : 1\n",
      "Node : 54, degree in A : 2, degree in A_prime : 1\n",
      " --- Hub ----: 25\n",
      "Node : 197, degree in A : 2, degree in A_prime : 1\n",
      "Node : 294, degree in A : 2, degree in A_prime : 1\n",
      "Node : 295, degree in A : 2, degree in A_prime : 1\n",
      "Node : 250, degree in A : 2, degree in A_prime : 1\n",
      "Errors after fixing: 0 0\n"
     ]
    }
   ],
   "source": [
    "# Identifying the components of the graph that are not reconstructed\n",
    "\n",
    "A_prime = np.dot(Gstar_fixed.adj_matrix, Gstar_fixed.adj_matrix.T)\n",
    "slots_of_error = np.argwhere(A != A_prime)\n",
    "nodes_of_error = set()\n",
    "for i, j in slots_of_error:\n",
    "    nodes_of_error.add(i)\n",
    "    nodes_of_error.add(j)\n",
    "\n",
    "nodes_of_error = list(nodes_of_error)\n",
    "\n",
    "components = {}\n",
    "hubs = []\n",
    "for node in nodes_of_error:\n",
    "    if A[node, node] == A_prime[node, node]:\n",
    "        hubs.append(node)\n",
    "\n",
    "\n",
    "for hub in hubs:\n",
    "    components[hub] = []\n",
    "    for node in nodes_of_error:\n",
    "        if A[hub, node] != A_prime[hub, node]:\n",
    "            components[hub].append(node)\n",
    "\n",
    "\n",
    "# print(components)\n",
    "\n",
    "for hub, nodes in components.items():\n",
    "    print(f\" --- Hub ----: {hub}\")\n",
    "    for node in nodes:\n",
    "        print(f\"Node : {node}, degree in A : {A[node, node]}, degree in A_prime : {A_prime[node, node]}\")\n",
    "\n",
    "G_prime_1 = Gstar_fixed.copy()\n",
    "G_prime_2 = Gstar_fixed.copy()\n",
    "\n",
    "for hub, nodes in components.items():\n",
    "    G_prime_1.add_edge((nodes[0], nodes[1]))\n",
    "    G_prime_1.add_edge((nodes[2], nodes[3]))    \n",
    "\n",
    "    G_prime_2.add_edge((nodes[0], nodes[3]))\n",
    "    G_prime_2.add_edge((nodes[1], nodes[2]))\n",
    "\n",
    "A_prime_1 = np.dot(G_prime_1.adj_matrix, G_prime_1.adj_matrix.T)\n",
    "A_prime_2 = np.dot(G_prime_2.adj_matrix, G_prime_2.adj_matrix.T)\n",
    "\n",
    "\n",
    "G_prime_1.to_txt(f\"datasets/{dataset}_prime_1.txt\")\n",
    "G_prime_2.to_txt(f\"datasets/{dataset}_prime_2.txt\")\n",
    "print(\"Errors after fixing:\", np.sum(np.abs(A - A_prime_1)), np.sum(np.abs(A - A_prime_2)))\n"
   ]
  },
  {
   "cell_type": "code",
   "execution_count": 7,
   "metadata": {},
   "outputs": [
    {
     "name": "stderr",
     "output_type": "stream",
     "text": [
      "100%|██████████| 379/379 [00:00<00:00, 773.18it/s]"
     ]
    },
    {
     "name": "stdout",
     "output_type": "stream",
     "text": [
      "Errors after spectral: 380\n"
     ]
    },
    {
     "name": "stderr",
     "output_type": "stream",
     "text": [
      "\n"
     ]
    }
   ],
   "source": [
    "\n",
    "dataset = \"netscience\"\n",
    "G_prime_1 = Graph.from_txt(f\"datasets/{dataset}_prime_1.txt\")\n",
    "G_prime_2 = Graph.from_txt(f\"datasets/{dataset}_prime_2.txt\")"
   ]
  }
 ],
 "metadata": {
  "kernelspec": {
   "display_name": "Python 3",
   "language": "python",
   "name": "python3"
  },
  "language_info": {
   "codemirror_mode": {
    "name": "ipython",
    "version": 3
   },
   "file_extension": ".py",
   "mimetype": "text/x-python",
   "name": "python",
   "nbconvert_exporter": "python",
   "pygments_lexer": "ipython3",
   "version": "3.9.19"
  }
 },
 "nbformat": 4,
 "nbformat_minor": 2
}
