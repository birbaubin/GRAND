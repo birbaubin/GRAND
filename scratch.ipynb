{
 "cells": [
  {
   "cell_type": "markdown",
   "metadata": {},
   "source": [
    "# Scratch code for testing purposes and small experiments. \n"
   ]
  },
  {
   "cell_type": "code",
   "execution_count": 42,
   "metadata": {},
   "outputs": [],
   "source": [
    "\n",
    "\n",
    "import numpy as np\n",
    "\n",
    "def common_neighbors(adj):\n",
    "    return np.dot(adj, adj)\n",
    "\n",
    "def eigenvalues(adj):\n",
    "    return np.linalg.eigvals(adj)\n",
    "\n",
    "def eigenvectors(adj):\n",
    "    return np.linalg.eig(adj)\n",
    "\n",
    "    \n",
    "\n",
    "\n",
    "m1 = np.array([[0, 1, 0, 1, 0, 1, 0, 1, 0, 0],\n",
    "                    [1, 0, 1, 1, 1, 0, 0, 0, 0, 0],\n",
    "                    [0, 1, 0, 0, 1, 0, 1, 0, 0, 1],\n",
    "                    [1, 1, 0, 0, 0, 1, 0, 1, 0, 0],\n",
    "                    [0, 1, 1, 0, 0, 0, 1, 0, 0, 1],\n",
    "                    [1, 0, 0, 1, 0, 0, 0, 0, 1, 1],\n",
    "                    [0, 0, 1, 0, 1, 0, 0, 1, 1, 0],\n",
    "                    [1, 0, 0, 1, 0, 0, 1, 0, 1, 0],\n",
    "                    [0, 0, 0, 0, 0, 1, 1, 1, 0, 1],\n",
    "                    [0, 0, 1, 0, 1, 1, 0, 0, 1, 0]])\n",
    "\n",
    "\n",
    "m2 = np.array([[0, 1, 0, 1, 0, 0, 1, 1, 0, 0],\n",
    "                    [1, 0, 1, 1, 1, 0, 0, 0, 0, 0],\n",
    "                    [0, 1, 0, 0, 1, 1, 0, 0, 0, 1],\n",
    "                    [1, 1, 0, 0, 0, 1, 0, 1, 0, 0],\n",
    "                    [0, 1, 1, 0, 0, 0, 1, 0, 0, 1],\n",
    "                    [0, 0, 1, 1, 0, 0, 0, 1, 1, 0],\n",
    "                    [1, 0, 0, 0, 1, 0, 0, 0, 1, 1],\n",
    "                    [1, 0, 0, 1, 0, 1, 0, 0, 1, 0],\n",
    "                    [0, 0, 0, 0, 0, 1, 1, 1, 0, 1],\n",
    "                    [0, 0, 1, 0, 1, 0, 1, 0, 1, 0]])\n",
    "\n",
    "\n",
    "\n"
   ]
  },
  {
   "cell_type": "markdown",
   "metadata": {},
   "source": [
    "Eigen values of G = G1 U G2 equal to the union of eigen values of G1 and G2 ?"
   ]
  },
  {
   "cell_type": "code",
   "execution_count": 43,
   "metadata": {},
   "outputs": [
    {
     "name": "stdout",
     "output_type": "stream",
     "text": [
      "Eigen values of G1 [ 4.         -2.56155281 -2.23606798  2.23606798  1.56155281 -1.\n",
      " -1.          1.         -1.         -1.        ]\n",
      "Eigen values of G2 [ 4.         -2.56155281 -2.23606798 -1.          2.23606798  1.\n",
      "  1.56155281 -1.         -1.         -1.        ]\n",
      "Eigen values of G [ 4.90768271  2.17008649  1.56914969 -2.83573973  0.31110782 -1.4811943\n",
      " -0.64109268 -2.         -1.         -1.        ]\n"
     ]
    }
   ],
   "source": [
    "eig_g1 = eigenvalues(m1)\n",
    "eig_g2 = eigenvalues(m2)\n",
    "\n",
    "m = np.logical_or(m1, m2).astype(int)\n",
    "\n",
    "print(\"Eigen values of G1\", eig_g1)\n",
    "print(\"Eigen values of G2\", eig_g2)\n",
    "print(\"Eigen values of G\", np.linalg.eigvals(m))\n",
    "\n"
   ]
  },
  {
   "cell_type": "markdown",
   "metadata": {},
   "source": [
    "Common neighbors graph"
   ]
  },
  {
   "cell_type": "code",
   "execution_count": 44,
   "metadata": {},
   "outputs": [
    {
     "name": "stdout",
     "output_type": "stream",
     "text": [
      "A =  [[5 1 3 3 2 2 1 3 3 2]\n",
      " [1 4 1 1 1 3 3 2 0 2]\n",
      " [3 1 5 2 3 1 2 2 3 3]\n",
      " [3 1 2 4 1 2 2 2 2 1]\n",
      " [2 1 3 1 4 2 2 1 2 2]\n",
      " [2 3 1 2 2 6 5 3 2 2]\n",
      " [1 3 2 2 2 5 6 2 2 3]\n",
      " [3 2 2 2 1 3 2 5 2 3]\n",
      " [3 0 3 2 2 2 2 2 4 2]\n",
      " [2 2 3 1 2 2 3 3 2 5]]\n"
     ]
    }
   ],
   "source": [
    "print(\"A = \", A)"
   ]
  },
  {
   "cell_type": "code",
   "execution_count": null,
   "metadata": {},
   "outputs": [],
   "source": []
  }
 ],
 "metadata": {
  "kernelspec": {
   "display_name": "Python 3",
   "language": "python",
   "name": "python3"
  },
  "language_info": {
   "codemirror_mode": {
    "name": "ipython",
    "version": 3
   },
   "file_extension": ".py",
   "mimetype": "text/x-python",
   "name": "python",
   "nbconvert_exporter": "python",
   "pygments_lexer": "ipython3",
   "version": "3.9.18"
  }
 },
 "nbformat": 4,
 "nbformat_minor": 2
}
