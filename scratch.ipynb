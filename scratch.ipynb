{
 "cells": [
  {
   "cell_type": "markdown",
   "metadata": {},
   "source": [
    "# Scratch code for testing purposes and small experiments. \n"
   ]
  },
  {
   "cell_type": "code",
   "execution_count": 114,
   "metadata": {},
   "outputs": [
    {
     "name": "stdout",
     "output_type": "stream",
     "text": [
      "The autoreload extension is already loaded. To reload it, use:\n",
      "  %reload_ext autoreload\n"
     ]
    }
   ],
   "source": [
    "\n",
    "import numpy as np\n",
    "import importlib\n",
    "from Graph import Graph\n",
    "from helpers import *\n",
    "import pandas as pd\n",
    "import random\n",
    "from tqdm import tqdm\n",
    "from deterministic_attack import DeterministicAttack\n",
    "from revisited_spectral import RevisitedSpectral\n",
    "from erdos import SpectralAttack\n",
    "\n",
    "\n",
    "%load_ext autoreload\n",
    "%autoreload 2"
   ]
  },
  {
   "cell_type": "markdown",
   "metadata": {},
   "source": [
    "## Block matrix generation"
   ]
  },
  {
   "cell_type": "code",
   "execution_count": 115,
   "metadata": {},
   "outputs": [],
   "source": [
    "\n",
    "# block = Graph.block_from_txt(\"datasets/block.txt\")\n",
    "\n",
    "# p_flip = 0.1\n",
    "\n",
    "# for i in range(0, block.first_partition_size):\n",
    "#     for j in range(block.first_partition_size+1, block.adj_matrix.shape[1]):\n",
    "#         if block.adj_matrix[i, j] == 1 and np.random.rand() < p_flip:\n",
    "#                 block.adj_matrix[i, j] = not block.adj_matrix[i, j]\n",
    "#                 block.adj_matrix[j, i] = not block.adj_matrix[j, i]\n",
    "\n",
    "#         elif block.adj_matrix[i, j] == 0 and np.random.rand() < p_flip:\n",
    "#                 block.adj_matrix[i, j] = not block.adj_matrix[i, j]\n",
    "#                 block.adj_matrix[j, i] = not block.adj_matrix[j, i]\n",
    "\n",
    "# block.to_txt(f\"datasets/block_{p_flip}.txt\")\n",
    "\n",
    "\n"
   ]
  },
  {
   "cell_type": "markdown",
   "metadata": {},
   "source": [
    "## Exploring the spectral approach"
   ]
  },
  {
   "cell_type": "code",
   "execution_count": 11,
   "metadata": {},
   "outputs": [],
   "source": []
  },
  {
   "cell_type": "code",
   "execution_count": 116,
   "metadata": {},
   "outputs": [],
   "source": [
    "dataset = \"cora\"\n",
    "G = Graph.from_txt(f\"datasets/{dataset}.txt\")\n",
    "G1, G2 = G.split_dataset(common_prop=0.0, graph1_prop=0.0)\n",
    "A = np.dot(G.adj_matrix, G.adj_matrix.T)"
   ]
  },
  {
   "cell_type": "code",
   "execution_count": 117,
   "metadata": {},
   "outputs": [
    {
     "name": "stderr",
     "output_type": "stream",
     "text": [
      "Degree attack: 100%|██████████| 379/379 [00:00<00:00, 3928.15it/s]\n",
      "Matching attacks: 100%|██████████| 379/379 [00:00<00:00, 499.00it/s]\n",
      "Completion attacks: 100%|██████████| 379/379 [00:00<00:00, 532.32it/s]\n",
      "Rectangle attack:: 100%|██████████| 5/5 [00:00<00:00, 3827.62it/s]\n",
      "Triangle attack: 100%|██████████| 90/90 [00:00<00:00, 11356.42it/s]\n"
     ]
    },
    {
     "name": "stdout",
     "output_type": "stream",
     "text": [
      "+-------------------------------+-------+\n",
      "|              Stat             | Value |\n",
      "+-------------------------------+-------+\n",
      "|   Number of impossible edges  |  3051 |\n",
      "| Number of reconstructed edges |   90  |\n",
      "|    Number of unknown edges    | 68869 |\n",
      "+-------------------------------+-------+ \n",
      "\n"
     ]
    },
    {
     "name": "stderr",
     "output_type": "stream",
     "text": [
      "Matching attacks: 100%|██████████| 379/379 [00:00<00:00, 417.31it/s]\n",
      "Completion attacks: 100%|██████████| 379/379 [00:00<00:00, 532.32it/s]\n",
      "Rectangle attack:: 100%|██████████| 5/5 [00:00<00:00, 5107.53it/s]\n",
      "Triangle attack: 100%|██████████| 90/90 [00:00<00:00, 12017.68it/s]\n"
     ]
    },
    {
     "name": "stdout",
     "output_type": "stream",
     "text": [
      "+-------------------------------+-------+\n",
      "|              Stat             | Value |\n",
      "+-------------------------------+-------+\n",
      "|   Number of impossible edges  | 22548 |\n",
      "| Number of reconstructed edges |   90  |\n",
      "|    Number of unknown edges    | 49372 |\n",
      "+-------------------------------+-------+ \n",
      "\n"
     ]
    },
    {
     "name": "stderr",
     "output_type": "stream",
     "text": [
      "Matching attacks: 100%|██████████| 379/379 [00:00<00:00, 474.92it/s]\n",
      "Completion attacks: 100%|██████████| 379/379 [00:00<00:00, 514.67it/s]\n",
      "Rectangle attack:: 100%|██████████| 5/5 [00:00<00:00, 3272.20it/s]\n",
      "Triangle attack: 100%|██████████| 90/90 [00:00<00:00, 13495.19it/s]\n"
     ]
    },
    {
     "name": "stdout",
     "output_type": "stream",
     "text": [
      "+-------------------------------+-------+\n",
      "|              Stat             | Value |\n",
      "+-------------------------------+-------+\n",
      "|   Number of impossible edges  | 22548 |\n",
      "| Number of reconstructed edges |   90  |\n",
      "|    Number of unknown edges    | 49372 |\n",
      "+-------------------------------+-------+ \n",
      "\n"
     ]
    },
    {
     "name": "stderr",
     "output_type": "stream",
     "text": [
      "Revisited spectral attack: 100%|██████████| 379/379 [00:01<00:00, 224.97it/s]\n"
     ]
    },
    {
     "name": "stdout",
     "output_type": "stream",
     "text": [
      "Errors after revisited: 14\n",
      "Updated 19180 edges in G*\n",
      "Slots to forget: {22, 25, 294, 295, 169, 302, 49, 50, 51, 52, 53, 54, 197, 69, 327, 328, 226, 227, 378, 377, 250}\n"
     ]
    },
    {
     "name": "stderr",
     "output_type": "stream",
     "text": [
      "Degree attack: 100%|██████████| 379/379 [00:00<00:00, 7558.38it/s]\n",
      "Matching attacks: 100%|██████████| 379/379 [00:01<00:00, 316.68it/s]\n",
      "Completion attacks: 100%|██████████| 379/379 [00:00<00:00, 579.75it/s]\n",
      "Rectangle attack:: 100%|██████████| 5/5 [00:00<00:00, 286.20it/s]\n",
      "Triangle attack: 100%|██████████| 859/859 [00:00<00:00, 17899.18it/s]\n"
     ]
    },
    {
     "name": "stdout",
     "output_type": "stream",
     "text": [
      "+-------------------------------+-------+\n",
      "|              Stat             | Value |\n",
      "+-------------------------------+-------+\n",
      "|   Number of impossible edges  | 70620 |\n",
      "| Number of reconstructed edges |  859  |\n",
      "|    Number of unknown edges    |  531  |\n",
      "+-------------------------------+-------+ \n",
      "\n"
     ]
    },
    {
     "name": "stderr",
     "output_type": "stream",
     "text": [
      "Matching attacks: 100%|██████████| 379/379 [00:01<00:00, 304.55it/s]\n",
      "Completion attacks: 100%|██████████| 379/379 [00:00<00:00, 531.20it/s]\n",
      "Rectangle attack:: 100%|██████████| 5/5 [00:00<00:00, 288.95it/s]\n",
      "Triangle attack: 100%|██████████| 907/907 [00:00<00:00, 19090.28it/s]\n"
     ]
    },
    {
     "name": "stdout",
     "output_type": "stream",
     "text": [
      "+-------------------------------+-------+\n",
      "|              Stat             | Value |\n",
      "+-------------------------------+-------+\n",
      "|   Number of impossible edges  | 70796 |\n",
      "| Number of reconstructed edges |  907  |\n",
      "|    Number of unknown edges    |  307  |\n",
      "+-------------------------------+-------+ \n",
      "\n"
     ]
    },
    {
     "name": "stderr",
     "output_type": "stream",
     "text": [
      "Matching attacks: 100%|██████████| 379/379 [00:01<00:00, 303.29it/s]\n",
      "Completion attacks: 100%|██████████| 379/379 [00:00<00:00, 524.79it/s]\n",
      "Rectangle attack:: 100%|██████████| 5/5 [00:00<00:00, 280.43it/s]\n",
      "Triangle attack: 100%|██████████| 908/908 [00:00<00:00, 19604.09it/s]\n"
     ]
    },
    {
     "name": "stdout",
     "output_type": "stream",
     "text": [
      "+-------------------------------+-------+\n",
      "|              Stat             | Value |\n",
      "+-------------------------------+-------+\n",
      "|   Number of impossible edges  | 71084 |\n",
      "| Number of reconstructed edges |  908  |\n",
      "|    Number of unknown edges    |   18  |\n",
      "+-------------------------------+-------+ \n",
      "\n"
     ]
    },
    {
     "name": "stderr",
     "output_type": "stream",
     "text": [
      "Matching attacks: 100%|██████████| 379/379 [00:01<00:00, 328.76it/s]\n",
      "Completion attacks: 100%|██████████| 379/379 [00:00<00:00, 561.02it/s]\n",
      "Rectangle attack:: 100%|██████████| 5/5 [00:00<00:00, 290.73it/s]\n",
      "Triangle attack: 100%|██████████| 908/908 [00:00<00:00, 20126.35it/s]"
     ]
    },
    {
     "name": "stdout",
     "output_type": "stream",
     "text": [
      "+-------------------------------+-------+\n",
      "|              Stat             | Value |\n",
      "+-------------------------------+-------+\n",
      "|   Number of impossible edges  | 71084 |\n",
      "| Number of reconstructed edges |  908  |\n",
      "|    Number of unknown edges    |   18  |\n",
      "+-------------------------------+-------+ \n",
      "\n",
      "Errors : 12\n"
     ]
    },
    {
     "name": "stderr",
     "output_type": "stream",
     "text": [
      "\n"
     ]
    }
   ],
   "source": [
    "deter = DeterministicAttack(G1, A)\n",
    "deter.run()\n",
    "Gstar = deter.get_reconstructed_graph()\n",
    "proba = RevisitedSpectral(Gstar, A)\n",
    "n_nodes = Gstar.adj_matrix.shape[0]\n",
    "proba.run(alpha=1, beta=len(G.edges()) / len(Gstar.edges()))\n",
    "Gstar = proba.get_reconstructed_graph()\n",
    "print(\"Errors after revisited:\", np.sum(np.abs(Gstar.adj_matrix - G.adj_matrix)))\n",
    "proba.sanity_check()\n",
    "deter = DeterministicAttack(Gstar, A)\n",
    "deter.run()\n",
    "Gstar = deter.get_reconstructed_graph()\n",
    "Gstar.fix_edges()\n",
    "\n",
    "print(\"Errors :\", np.sum(np.abs(Gstar.adj_matrix - G.adj_matrix)))\n"
   ]
  },
  {
   "cell_type": "code",
   "execution_count": 118,
   "metadata": {},
   "outputs": [
    {
     "name": "stdout",
     "output_type": "stream",
     "text": [
      "[[ 22  53]\n",
      " [ 22  54]\n",
      " [ 22 226]\n",
      " [ 22 227]\n",
      " [ 25 197]\n",
      " [ 25 250]\n",
      " [ 25 294]\n",
      " [ 25 295]\n",
      " [ 53  22]\n",
      " [ 53  53]\n",
      " [ 54  22]\n",
      " [ 54  54]\n",
      " [ 69 327]\n",
      " [ 69 328]\n",
      " [ 69 377]\n",
      " [ 69 378]\n",
      " [197  25]\n",
      " [197 197]\n",
      " [226  22]\n",
      " [226 226]\n",
      " [227  22]\n",
      " [227 227]\n",
      " [250  25]\n",
      " [250 250]\n",
      " [294  25]\n",
      " [294 294]\n",
      " [295  25]\n",
      " [295 295]\n",
      " [302 327]\n",
      " [302 328]\n",
      " [302 377]\n",
      " [302 378]\n",
      " [327  69]\n",
      " [327 302]\n",
      " [327 327]\n",
      " [328  69]\n",
      " [328 302]\n",
      " [328 328]\n",
      " [377  69]\n",
      " [377 302]\n",
      " [377 377]\n",
      " [378  69]\n",
      " [378 302]\n",
      " [378 378]]\n"
     ]
    }
   ],
   "source": [
    "A_prime = np.dot(Gstar.adj_matrix, Gstar.adj_matrix.T)\n",
    "slots_of_error = np.argwhere(A != A_prime)\n",
    "nodes_of_error = set()\n",
    "for i, j in slots_of_error:\n",
    "    nodes_of_error.add(i)\n",
    "    nodes_of_error.add(j)\n",
    "\n",
    "print(slots_of_error)\n",
    "\n",
    "\n",
    "    # print(A[node, node])\n",
    "\n",
    "# print(A[226, 22])"
   ]
  },
  {
   "cell_type": "code",
   "execution_count": 119,
   "metadata": {},
   "outputs": [
    {
     "name": "stdout",
     "output_type": "stream",
     "text": [
      "226 A_prime =  1 A =  2\n",
      "227 A_prime =  1 A =  2\n",
      "197 A_prime =  1 A =  2\n",
      "294 A_prime =  1 A =  2\n",
      "295 A_prime =  1 A =  2\n",
      "69 A_prime =  18 A =  18\n",
      "327 A_prime =  2 A =  3\n",
      "328 A_prime =  2 A =  3\n",
      "377 A_prime =  2 A =  3\n",
      "378 A_prime =  2 A =  3\n",
      "302 A_prime =  12 A =  12\n",
      "53 A_prime =  1 A =  2\n",
      "54 A_prime =  1 A =  2\n",
      "22 A_prime =  11 A =  11\n",
      "25 A_prime =  27 A =  27\n",
      "250 A_prime =  1 A =  2\n",
      "[[25]]\n",
      "[[ 25]\n",
      " [294]]\n"
     ]
    }
   ],
   "source": [
    "for node in nodes_of_error:\n",
    "    print(node, \"A_prime = \", A_prime[node, node], \"A = \", A[node, node])\n",
    "\n",
    "print(np.argwhere(Gstar.adj_matrix[295] == 1))\n",
    "print(np.argwhere(G.adj_matrix[295] == 1))"
   ]
  },
  {
   "cell_type": "markdown",
   "metadata": {},
   "source": [
    "# Experiments on graphs with the same G^2"
   ]
  },
  {
   "cell_type": "code",
   "execution_count": 120,
   "metadata": {},
   "outputs": [
    {
     "ename": "NameError",
     "evalue": "name 'perm_1' is not defined",
     "output_type": "error",
     "traceback": [
      "\u001b[0;31m---------------------------------------------------------------------------\u001b[0m",
      "\u001b[0;31mNameError\u001b[0m                                 Traceback (most recent call last)",
      "Input \u001b[0;32mIn [120]\u001b[0m, in \u001b[0;36m<cell line: 25>\u001b[0;34m()\u001b[0m\n\u001b[1;32m     21\u001b[0m g1_matrix \u001b[38;5;241m=\u001b[39m Graph\u001b[38;5;241m.\u001b[39mfrom_txt(\u001b[38;5;124m\"\u001b[39m\u001b[38;5;124mdatasets/josee.txt\u001b[39m\u001b[38;5;124m\"\u001b[39m)\u001b[38;5;241m.\u001b[39madj_matrix\n\u001b[1;32m     22\u001b[0m \u001b[38;5;66;03m# perm_1 = [0, 2, 4, 6, 8, 10, 1, 3, 5, 7, 9, 11]\u001b[39;00m\n\u001b[1;32m     23\u001b[0m \u001b[38;5;66;03m# perm_2 = [1, 3, 5, 7, 9, 11, 0, 2, 4, 6, 8, 10]\u001b[39;00m\n\u001b[0;32m---> 25\u001b[0m g1_matrix_perm \u001b[38;5;241m=\u001b[39m g1_matrix[\u001b[43mperm_1\u001b[49m, :][:, perm_1]\n\u001b[1;32m     26\u001b[0m g2_matrix_perm \u001b[38;5;241m=\u001b[39m g2_matrix[perm_2, :][:, perm_2]\n\u001b[1;32m     29\u001b[0m G_square_1 \u001b[38;5;241m=\u001b[39m np\u001b[38;5;241m.\u001b[39mdot(g1_matrix, g1_matrix)\n",
      "\u001b[0;31mNameError\u001b[0m: name 'perm_1' is not defined"
     ]
    }
   ],
   "source": [
    "import pandas as pd\n",
    "\n",
    "g1 = pd.read_csv(\"datasets/josee.txt\", sep=\"\\t\", header=None)\n",
    " \n",
    "\n",
    "g2_matrix = np.array([[0, 0, 0, 0, 1, 0, 1, 0, 1, 0, 0, 0],\n",
    "                    [0, 0, 0, 0, 0, 1, 0, 1, 0, 1, 0, 0],\n",
    "                    [0, 0, 0, 0, 0, 0, 1, 0, 1, 0, 1, 0],\n",
    "                    [0, 0, 0, 0, 0, 0, 0, 1, 0, 1, 0, 1],\n",
    "                    [1, 0, 0, 0, 0, 0, 0, 0, 1, 0, 1, 0],\n",
    "                    [0, 1, 0, 0, 0, 0, 0, 0, 0, 1, 0, 1],\n",
    "                    [1, 0, 1, 0, 0, 0, 0, 0, 0, 0, 1, 0],\n",
    "                    [0, 1, 0, 1, 0, 0, 0, 0, 0, 0, 0, 1],\n",
    "                    [1, 0, 1, 0, 1, 0, 0, 0, 0, 0, 0, 0],\n",
    "                    [0, 1, 0, 1, 0, 1, 0, 0, 0, 0, 0, 0],\n",
    "                    [0, 0, 1, 0, 1, 0, 1, 0, 0, 0, 0, 0],\n",
    "                    [0, 0, 0, 1, 0, 1, 0, 1, 0, 0, 0, 0],\n",
    "                    ])\n",
    "\n",
    "\n",
    "g1_matrix = Graph.from_txt(\"datasets/josee.txt\").adj_matrix\n",
    "# perm_1 = [0, 2, 4, 6, 8, 10, 1, 3, 5, 7, 9, 11]\n",
    "# perm_2 = [1, 3, 5, 7, 9, 11, 0, 2, 4, 6, 8, 10]\n",
    "\n",
    "g1_matrix_perm = g1_matrix[perm_1, :][:, perm_1]\n",
    "g2_matrix_perm = g2_matrix[perm_2, :][:, perm_2]\n",
    "\n",
    "\n",
    "G_square_1 = np.dot(g1_matrix, g1_matrix)\n",
    "G_square_2 = np.dot(g2_matrix, g2_matrix)\n",
    "# print(G_square_1)\n",
    "# print(G_square_2)\n",
    "\n",
    "\n",
    "\n",
    "\n",
    "rec = erdos(G_square, 0.5)\n",
    "rec_perm1 = rec[perm_1, :][:, perm_1]\n",
    "\n",
    "rec_pol = erdos(A, 0.5)\n",
    "\n",
    "print(\"Errors G : \", np.linalg.norm(rec_pol - G.adj_matrix) ** 2)\n",
    "\n"
   ]
  },
  {
   "cell_type": "code",
   "execution_count": null,
   "metadata": {},
   "outputs": [],
   "source": []
  }
 ],
 "metadata": {
  "kernelspec": {
   "display_name": "Python 3",
   "language": "python",
   "name": "python3"
  },
  "language_info": {
   "codemirror_mode": {
    "name": "ipython",
    "version": 3
   },
   "file_extension": ".py",
   "mimetype": "text/x-python",
   "name": "python",
   "nbconvert_exporter": "python",
   "pygments_lexer": "ipython3",
   "version": "3.9.19"
  }
 },
 "nbformat": 4,
 "nbformat_minor": 2
}
