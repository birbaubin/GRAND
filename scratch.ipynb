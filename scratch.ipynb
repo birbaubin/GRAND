{
 "cells": [
  {
   "cell_type": "markdown",
   "metadata": {},
   "source": [
    "# Scratch code for testing purposes and small experiments. \n"
   ]
  },
  {
   "cell_type": "code",
   "execution_count": 52,
   "metadata": {},
   "outputs": [
    {
     "name": "stdout",
     "output_type": "stream",
     "text": [
      "The autoreload extension is already loaded. To reload it, use:\n",
      "  %reload_ext autoreload\n"
     ]
    }
   ],
   "source": [
    "\n",
    "\n",
    "import numpy as np\n",
    "import importlib\n",
    "from helpers.Graph import Graph\n",
    "import pandas as pd\n",
    "import random\n",
    "from tqdm import tqdm\n",
    "\n",
    "%load_ext autoreload\n",
    "%autoreload 2\n",
    "\n",
    "\n",
    "def common_neighbors(adj):\n",
    "    return np.dot(adj, adj)\n",
    "\n",
    "def eigenvalues(adj):\n",
    "    return np.linalg.eigvals(adj)\n",
    "\n",
    "def eigenvectors(adj):\n",
    "    return np.linalg.eig(adj)\n",
    "\n",
    "\n",
    "\n",
    "\n",
    "m1 = np.array([[0, 1, 0, 1, 0, 1, 0, 1, 0, 0],\n",
    "                    [1, 0, 1, 1, 1, 0, 0, 0, 0, 0],\n",
    "                    [0, 1, 0, 0, 1, 0, 1, 0, 0, 1],\n",
    "                    [1, 1, 0, 0, 0, 1, 0, 1, 0, 0],\n",
    "                    [0, 1, 1, 0, 0, 0, 1, 0, 0, 1],\n",
    "                    [1, 0, 0, 1, 0, 0, 0, 0, 1, 1],\n",
    "                    [0, 0, 1, 0, 1, 0, 0, 1, 1, 0],\n",
    "                    [1, 0, 0, 1, 0, 0, 1, 0, 1, 0],\n",
    "                    [0, 0, 0, 0, 0, 1, 1, 1, 0, 1],\n",
    "                    [0, 0, 1, 0, 1, 1, 0, 0, 1, 0]])\n",
    "\n",
    "\n",
    "m2 = np.array([[0, 1, 0, 1, 0, 0, 1, 1, 0, 0],\n",
    "                    [1, 0, 1, 1, 1, 0, 0, 0, 0, 0],\n",
    "                    [0, 1, 0, 0, 1, 1, 0, 0, 0, 1],\n",
    "                    [1, 1, 0, 0, 0, 1, 0, 1, 0, 0],\n",
    "                    [0, 1, 1, 0, 0, 0, 1, 0, 0, 1],\n",
    "                    [0, 0, 1, 1, 0, 0, 0, 1, 1, 0],\n",
    "                    [1, 0, 0, 0, 1, 0, 0, 0, 1, 1],\n",
    "                    [1, 0, 0, 1, 0, 1, 0, 0, 1, 0],\n",
    "                    [0, 0, 0, 0, 0, 1, 1, 1, 0, 1],\n",
    "                    [0, 0, 1, 0, 1, 0, 1, 0, 1, 0]])\n",
    "\n",
    "\n",
    "\n"
   ]
  },
  {
   "cell_type": "markdown",
   "metadata": {},
   "source": [
    "## Eigen values of G = G1 U G2 equal to the union of eigen values of G1 and G2 ?"
   ]
  },
  {
   "cell_type": "code",
   "execution_count": 53,
   "metadata": {},
   "outputs": [
    {
     "name": "stdout",
     "output_type": "stream",
     "text": [
      "Eigen values of G1 [ 4.         -2.56155281 -2.23606798  2.23606798  1.56155281 -1.\n",
      " -1.          1.         -1.         -1.        ]\n",
      "Eigen values of G2 [ 4.         -2.56155281 -2.23606798 -1.          2.23606798  1.\n",
      "  1.56155281 -1.         -1.         -1.        ]\n",
      "Eigen values of G [ 4.90768271  2.17008649  1.56914969 -2.83573973  0.31110782 -1.4811943\n",
      " -0.64109268 -2.         -1.         -1.        ]\n"
     ]
    }
   ],
   "source": [
    "eig_g1 = eigenvalues(m1)\n",
    "eig_g2 = eigenvalues(m2)\n",
    "\n",
    "m = np.logical_or(m1, m2).astype(int)\n",
    "\n",
    "print(\"Eigen values of G1\", eig_g1)\n",
    "print(\"Eigen values of G2\", eig_g2)\n",
    "print(\"Eigen values of G\", np.linalg.eigvals(m))\n",
    "\n"
   ]
  },
  {
   "cell_type": "markdown",
   "metadata": {},
   "source": [
    "Common neighbors matrix"
   ]
  },
  {
   "cell_type": "code",
   "execution_count": 54,
   "metadata": {},
   "outputs": [
    {
     "name": "stdout",
     "output_type": "stream",
     "text": [
      "A =  [[5 1 3 3 2 2 1 3 3 2]\n",
      " [1 4 1 1 1 3 3 2 0 2]\n",
      " [3 1 5 2 3 1 2 2 3 3]\n",
      " [3 1 2 4 1 2 2 2 2 1]\n",
      " [2 1 3 1 4 2 2 1 2 2]\n",
      " [2 3 1 2 2 6 5 3 2 2]\n",
      " [1 3 2 2 2 5 6 2 2 3]\n",
      " [3 2 2 2 1 3 2 5 2 3]\n",
      " [3 0 3 2 2 2 2 2 4 2]\n",
      " [2 2 3 1 2 2 3 3 2 5]]\n"
     ]
    }
   ],
   "source": [
    "A = common_neighbors(m) # or np.dot(m, m) for m^2\n",
    "print(\"A = \", A)"
   ]
  },
  {
   "cell_type": "code",
   "execution_count": null,
   "metadata": {},
   "outputs": [],
   "source": []
  },
  {
   "cell_type": "code",
   "execution_count": 55,
   "metadata": {},
   "outputs": [
    {
     "name": "stdout",
     "output_type": "stream",
     "text": [
      "m1**2 =  [[3 0 2 0 1 0 0 0 1 0 2 0]\n",
      " [0 3 0 2 0 1 0 0 0 1 0 2]\n",
      " [2 0 3 0 2 0 1 0 0 0 1 0]\n",
      " [0 2 0 3 0 2 0 1 0 0 0 1]\n",
      " [1 0 2 0 3 0 2 0 1 0 0 0]\n",
      " [0 1 0 2 0 3 0 2 0 1 0 0]\n",
      " [0 0 1 0 2 0 3 0 2 0 0 0]\n",
      " [0 0 0 1 0 2 0 3 0 2 0 1]\n",
      " [1 0 0 0 1 0 2 0 3 0 1 0]\n",
      " [0 0 0 0 0 1 0 2 0 2 0 1]\n",
      " [2 0 1 0 0 0 1 0 2 0 2 0]\n",
      " [0 2 0 1 0 0 0 1 0 2 0 3]]\n",
      "m1_perm**2 =  [[3 2 1 0 1 2 0 0 0 0 0 0]\n",
      " [2 3 2 1 0 1 0 0 0 0 0 0]\n",
      " [1 2 3 2 1 0 0 0 0 0 0 0]\n",
      " [0 1 2 3 2 0 0 0 0 0 0 0]\n",
      " [1 0 1 2 3 1 0 0 0 0 0 0]\n",
      " [2 1 0 1 2 2 0 0 0 0 0 0]\n",
      " [0 0 0 0 0 0 3 2 1 0 1 2]\n",
      " [0 0 0 0 0 0 2 3 2 1 0 1]\n",
      " [0 0 0 0 0 0 1 2 3 2 1 0]\n",
      " [0 0 0 0 0 0 0 1 2 3 2 1]\n",
      " [0 0 0 0 0 0 0 0 1 2 2 1]\n",
      " [0 0 0 0 0 0 2 1 0 1 2 3]]\n"
     ]
    }
   ],
   "source": [
    "m1 = np.array([     [0, 1, 0, 1, 0, 0, 0, 0, 0, 0, 0 , 1], #0\n",
    "                    [1, 0, 1, 0, 0, 0, 0, 0, 0, 0, 1 , 0], #1\n",
    "                    [0, 1, 0, 1, 0, 1, 0, 0, 0, 0, 0 , 0], #2\n",
    "                    [1, 0, 1, 0, 1, 0, 0, 0, 0, 0, 0 , 0], #3\n",
    "                    [0, 0, 0, 1, 0, 1, 0, 1, 0, 0, 0 , 0], #4\n",
    "                    [0, 0, 1, 0, 1, 0, 1, 0, 0, 0, 0 , 0], #5\n",
    "                    [0, 0, 0, 0, 0, 1, 0, 1, 0, 1, 0 , 0], #6\n",
    "                    [0, 0, 0, 0, 1, 0, 1, 0, 1, 0, 0 , 0], #7\n",
    "                    [0, 0, 0, 0, 0, 0, 0, 1, 0, 1, 0 , 1], #8\n",
    "                    [0, 0, 0, 0, 0, 0, 1, 0, 1, 0, 0 , 0], #9\n",
    "                    [0, 1, 0, 0, 0, 0, 0, 0, 0, 1, 0 , 1], #10\n",
    "                    [1, 0, 0, 0, 0, 0, 0, 0, 1, 0, 1 , 0]]) #11\n",
    "\n",
    "\n",
    "permutation = [0, 2, 4, 6, 8, 10, 1, 3, 5, 7, 9, 11]\n",
    "m1_perm = m1[permutation, :][:, permutation]\n",
    "print(\"m1**2 = \", np.dot(m1, m1))\n",
    "print(\"m1_perm**2 = \", np.dot(m1_perm, m1_perm))"
   ]
  },
  {
   "cell_type": "markdown",
   "metadata": {},
   "source": [
    "## Block matrix generation"
   ]
  },
  {
   "cell_type": "code",
   "execution_count": 56,
   "metadata": {},
   "outputs": [],
   "source": [
    "\n",
    "block = Graph.block_from_txt(\"datasets/block.txt\")\n",
    "\n",
    "p_flip = 0.1\n",
    "\n",
    "for i in range(0, block.first_partition_size):\n",
    "    for j in range(block.first_partition_size+1, block.adj_matrix.shape[1]):\n",
    "        if block.adj_matrix[i, j] == 1 and np.random.rand() < p_flip:\n",
    "                block.adj_matrix[i, j] = not block.adj_matrix[i, j]\n",
    "                block.adj_matrix[j, i] = not block.adj_matrix[j, i]\n",
    "\n",
    "        elif block.adj_matrix[i, j] == 0 and np.random.rand() < p_flip:\n",
    "                block.adj_matrix[i, j] = not block.adj_matrix[i, j]\n",
    "                block.adj_matrix[j, i] = not block.adj_matrix[j, i]\n",
    "\n",
    "block.to_txt(f\"datasets/block_{p_flip}.txt\")\n",
    "\n",
    "\n"
   ]
  },
  {
   "cell_type": "code",
   "execution_count": 57,
   "metadata": {},
   "outputs": [
    {
     "ename": "NameError",
     "evalue": "name 'generate_block_matrix' is not defined",
     "output_type": "error",
     "traceback": [
      "\u001b[0;31m---------------------------------------------------------------------------\u001b[0m",
      "\u001b[0;31mNameError\u001b[0m                                 Traceback (most recent call last)",
      "Input \u001b[0;32mIn [57]\u001b[0m, in \u001b[0;36m<cell line: 1>\u001b[0;34m()\u001b[0m\n\u001b[1;32m      1\u001b[0m \u001b[38;5;28;01mfor\u001b[39;00m i \u001b[38;5;129;01min\u001b[39;00m \u001b[38;5;28mrange\u001b[39m(\u001b[38;5;241m6\u001b[39m):\n\u001b[0;32m----> 2\u001b[0m     block \u001b[38;5;241m=\u001b[39m \u001b[43mgenerate_block_matrix\u001b[49m(\u001b[38;5;241m100\u001b[39m, \u001b[38;5;241m10\u001b[39m, i \u001b[38;5;241m/\u001b[39m \u001b[38;5;241m100\u001b[39m)\n\u001b[1;32m      3\u001b[0m     graph \u001b[38;5;241m=\u001b[39m Graph\u001b[38;5;241m.\u001b[39mfrom_adj_matrix(block)\n\u001b[1;32m      4\u001b[0m     \u001b[38;5;28mprint\u001b[39m(\u001b[38;5;124m\"\u001b[39m\u001b[38;5;124mp_fip = \u001b[39m\u001b[38;5;124m\"\u001b[39m, i\u001b[38;5;241m/\u001b[39m\u001b[38;5;241m100\u001b[39m,\u001b[38;5;124m\"\u001b[39m\u001b[38;5;124mclustering coeff. = \u001b[39m\u001b[38;5;124m\"\u001b[39m, graph\u001b[38;5;241m.\u001b[39mglobal_clustering_coefficient())\n",
      "\u001b[0;31mNameError\u001b[0m: name 'generate_block_matrix' is not defined"
     ]
    }
   ],
   "source": [
    "\n",
    "for i in range(6):\n",
    "    block = generate_block_matrix(100, 10, i / 100)\n",
    "    graph = Graph.from_adj_matrix(block)\n",
    "    print(\"p_fip = \", i/100,\"clustering coeff. = \", graph.global_clustering_coefficient())"
   ]
  },
  {
   "cell_type": "markdown",
   "metadata": {},
   "source": [
    "## Idea of detecting and using triangles in the graph"
   ]
  },
  {
   "cell_type": "code",
   "execution_count": null,
   "metadata": {},
   "outputs": [],
   "source": [
    "def is_triangle_common_neighbors(common_neighbors, i, j, k):\n",
    "    return common_neighbors[i, j] == 1 and common_neighbors[j, k] == 1 and common_neighbors[i, k] == 1 and common_neighbors[i, i] == 2 and common_neighbors[j, j] == 2 and common_neighbors[k, k] == 2\n",
    "\n",
    "def is_triangle_adj(adj, i, j, k):\n",
    "    return adj[i, j] and adj[j, k] and adj[i, k]\n",
    "\n",
    "polblogs = Graph.from_txt(\"datasets/polblogs.txt\")\n",
    "\n",
    "common_neighbors_polblogs = common_neighbors(polblogs.adj_matrix)\n",
    "adj_polblogs = polblogs.adj_matrix\n",
    "\n",
    "num_triangles_common_neighbors = 0\n",
    "num_triangles_adj = 0\n",
    "\n",
    "triplets = []\n",
    "triangles = []\n",
    "\n",
    "for i in range(polblogs.adj_matrix.shape[0]):\n",
    "    for j in range(i + 1, polblogs.adj_matrix.shape[0]):\n",
    "        for k in range(j + 1, polblogs.adj_matrix.shape[0]):\n",
    "            if is_triangle_common_neighbors(common_neighbors_polblogs, i, j, k) and ( adj_polblogs[i, j] or adj_polblogs[j, k] or adj_polblogs[i, k]):\n",
    "                triplets.append((i, j, k))\n",
    "                num_triangles_common_neighbors += 1\n",
    "                triangles.append((i, j, k))\n",
    "\n",
    "            if is_triangle_adj(adj_polblogs, i, j, k):\n",
    "                num_triangles_adj += 1\n",
    "\n"
   ]
  },
  {
   "cell_type": "code",
   "execution_count": 131,
   "metadata": {},
   "outputs": [
    {
     "name": "stdout",
     "output_type": "stream",
     "text": [
      "Number of nodes with degree 1 =  2\n"
     ]
    }
   ],
   "source": [
    "polblogs = Graph.from_txt(\"datasets/flickr.txt\")\n",
    "\n",
    "degrees = np.sum(polblogs.adj_matrix, axis=0)\n",
    "number_degree_1 = np.sum(degrees == 1)\n",
    "\n",
    "print(\"Number of nodes with degree 1 = \", number_degree_1)"
   ]
  },
  {
   "cell_type": "code",
   "execution_count": 220,
   "metadata": {},
   "outputs": [
    {
     "name": "stdout",
     "output_type": "stream",
     "text": [
      "A^2 = \n",
      "  [[3 1 2 3 1]\n",
      " [1 3 2 1 3]\n",
      " [2 2 4 2 2]\n",
      " [3 1 2 3 1]\n",
      " [1 3 2 1 3]]\n",
      "A^3 = \n",
      "  [[4 8 8 4 8]\n",
      " [8 4 8 8 4]\n",
      " [8 8 8 8 8]\n",
      " [4 8 8 4 8]\n",
      " [8 4 8 8 4]]\n"
     ]
    }
   ],
   "source": [
    "A = np.array([[0, 1, 1, 0, 1],\n",
    "              [1, 0, 1, 1, 0],\n",
    "              [1, 1, 0, 1, 1],\n",
    "              [0, 1, 1, 0, 1],\n",
    "              [1, 0, 1, 1, 0]])\n",
    "              \n",
    "\n",
    "\n",
    "A_square = np.dot(A, A)\n",
    "A_cube = np.dot(A_square, A)\n",
    "\n",
    "print(\"A^2 = \\n \", A_square)\n",
    "print(\"A^3 = \\n \", A_cube)"
   ]
  },
  {
   "cell_type": "markdown",
   "metadata": {},
   "source": [
    "## Exploring the spectral approach"
   ]
  },
  {
   "cell_type": "code",
   "execution_count": 216,
   "metadata": {},
   "outputs": [],
   "source": [
    "dataset = \"polblogs\"\n",
    "G = Graph.from_txt(f\"datasets/{dataset}.txt\")\n",
    "G1, G2 = G.split_dataset(common_prop=0.0, graph1_prop=0.1)\n",
    "A = np.dot(G.adj_matrix, G.adj_matrix.T)\n",
    "# G1_singular_values = np.linalg.svd(G1.adj_matrix, compute_uv=False)\n",
    "U_A, S_A, V_A = np.linalg.svd(A, compute_uv=True)\n",
    "# U_G, S_G, V_G = np.linalg.svd(G.adj_matrix, compute_uv=True)\n",
    "U_G1, S_G1, V_G1 = np.linalg.svd(G1.adj_matrix, compute_uv=True)\n"
   ]
  },
  {
   "cell_type": "markdown",
   "metadata": {},
   "source": [
    "## Sign assignment"
   ]
  },
  {
   "cell_type": "code",
   "execution_count": 101,
   "metadata": {},
   "outputs": [
    {
     "name": "stderr",
     "output_type": "stream",
     "text": [
      "100%|██████████| 2485/2485 [02:31<00:00, 16.45it/s]"
     ]
    },
    {
     "name": "stdout",
     "output_type": "stream",
     "text": [
      "Number of errors :  69.0\n"
     ]
    },
    {
     "name": "stderr",
     "output_type": "stream",
     "text": [
      "\n"
     ]
    }
   ],
   "source": [
    "M_star = np.zeros_like(G.adj_matrix)\n",
    "\n",
    "for i in tqdm(range(S_A.shape[0])):\n",
    "    # print(\"Singular value A = \", S_A[i])\n",
    "    S_Gi_plus = np.sqrt(S_A[i])\n",
    "    S_Gi_minus =  - np.sqrt(S_A[i])\n",
    "\n",
    "    M_star_plus = M_star + U_A[:, i].reshape(-1, 1) * S_Gi_plus * V_A[i, :].reshape(1, -1)\n",
    "    M_star_minus = M_star + U_A[:, i].reshape(-1, 1) * S_Gi_minus * V_A[i, :].reshape(1, -1)\n",
    "\n",
    "    binary_M_star_plus = np.where(M_star_plus > 0.5, 1, 0)\n",
    "    binary_M_star_minus = np.where(M_star_minus > 0.5, 1, 0)\n",
    "\n",
    "    distance_plus = np.linalg.norm(M_star_plus - binary_M_star_plus, ord='fro')\n",
    "    distance_minus = np.linalg.norm(M_star_minus - binary_M_star_minus, ord='fro')\n",
    "\n",
    "    if distance_plus < distance_minus:\n",
    "        M_star = M_star_plus\n",
    "    else:\n",
    "        M_star = M_star_minus\n",
    "\n",
    "M_star = np.where(M_star > 0.5, 1, 0)\n",
    "# print(\"M_star = \", M_star)\n",
    "\n",
    "print(\"Number of errors : \", np.linalg.norm(G.adj_matrix - M_star) ** 2)"
   ]
  },
  {
   "cell_type": "markdown",
   "metadata": {},
   "source": [
    "## Revisited sign assignment"
   ]
  },
  {
   "cell_type": "code",
   "execution_count": null,
   "metadata": {},
   "outputs": [],
   "source": [
    "# M_star = np.zeros_like(G.adj_matrix)\n",
    "M_star = G1.adj_matrix\n",
    "\n",
    "for i in tqdm(range(S_A.shape[0])):\n",
    "\n",
    "    S_Gi_plus = np.sqrt(S_A[i])\n",
    "    S_Gi_minus =  - np.sqrt(S_A[i])\n",
    "\n",
    "    M_star_plus = M_star + U_A[:, i].reshape(-1, 1) * S_Gi_plus * V_A[i, :].reshape(1, -1)\n",
    "    M_star_minus = M_star + U_A[:, i].reshape(-1, 1) * S_Gi_minus * V_A[i, :].reshape(1, -1)\n",
    "\n",
    "\n",
    "    binary_M_star_plus = np.where(M_star_plus > 0.5, 1, 0)\n",
    "    binary_M_star_minus = np.where(M_star_minus > 0.5, 1, 0)\n",
    "\n",
    "\n",
    "    A_plus = np.dot(binary_M_star_plus, binary_M_star_plus.T)\n",
    "    A_minus = np.dot(binary_M_star_minus, binary_M_star_minus.T)\n",
    "    \n",
    "    distance_plus = np.linalg.norm(A_plus - A, ord='fro')\n",
    "    distance_minus = np.linalg.norm(A_minus - A, ord='fro')\n",
    "\n",
    "    # print(\"----------------------\")\n",
    "    # print(\"A_plus = \", distance_plus)\n",
    "    # print(\"A_minus = \", distance_minus)\n",
    "\n",
    "    if distance_plus < distance_minus:\n",
    "        M_star = M_star_plus\n",
    "    else:\n",
    "        M_star = M_star_minus\n",
    "\n",
    "print(M_star)\n",
    "\n"
   ]
  },
  {
   "cell_type": "code",
   "execution_count": 217,
   "metadata": {},
   "outputs": [
    {
     "name": "stdout",
     "output_type": "stream",
     "text": [
      "+-------------------------------+--------+\n",
      "|              Stat             | Value  |\n",
      "+-------------------------------+--------+\n",
      "|   Number of impossible edges  |  1222  |\n",
      "| Number of reconstructed edges |   0    |\n",
      "|    Number of unknown edges    | 746031 |\n",
      "+-------------------------------+--------+ \n",
      "\n"
     ]
    },
    {
     "name": "stderr",
     "output_type": "stream",
     "text": [
      "Degree attack: 100%|██████████| 1222/1222 [00:03<00:00, 332.40it/s]"
     ]
    },
    {
     "name": "stdout",
     "output_type": "stream",
     "text": [
      "Number of modifs =  47\n",
      "[[26  9  0 ...  0  0  0]\n",
      " [ 9 45  0 ...  0  0  0]\n",
      " [ 0  0  4 ...  0  1  0]\n",
      " ...\n",
      " [ 0  0  0 ...  1  0  0]\n",
      " [ 0  0  1 ...  0 18  0]\n",
      " [ 0  0  0 ...  0  0  1]]\n"
     ]
    },
    {
     "name": "stderr",
     "output_type": "stream",
     "text": [
      "\n"
     ]
    }
   ],
   "source": [
    "def degree_attack(reconstructed_graph, A, degrees):\n",
    "    number_modifs = 0\n",
    "    for i in tqdm(range(A.shape[0]), desc=\"Degree attack\"):\n",
    "        if A[i, i] not in degrees:\n",
    "            continue\n",
    "        degree = np.sum(A[i]) \n",
    "        candidate = None\n",
    "        possibilities = np.where(np.diag(A) <= degree - A[i, i] + 1)[0]\n",
    "        for comb in combinations(possibilities, A[i, i]):\n",
    "            sum_of_degrees = 0\n",
    "\n",
    "            for k in comb:\n",
    "                sum_of_degrees += A[k, k]\n",
    "\n",
    "            if sum_of_degrees == degree:\n",
    "                if candidate == None:\n",
    "                    candidate = comb\n",
    "                else:\n",
    "                    candidate = None\n",
    "                    break\n",
    "        \n",
    "        if candidate != None:\n",
    "            for j in candidate:\n",
    "                if reconstructed_graph.does_not_know_edge((i, j)):\n",
    "                    reconstructed_graph.add_edge((i, j))\n",
    "                    number_modifs += 1\n",
    "\n",
    "    return reconstructed_graph, number_modifs\n",
    "\n",
    "reconstructed_graph = graph1_copy(G1)\n",
    "\n",
    "rec, modifs = degree_attack(reconstructed_graph, A, [1, 2])\n",
    "print(\"Number of modifs = \", modifs)\n",
    "print(A)"
   ]
  },
  {
   "cell_type": "code",
   "execution_count": 224,
   "metadata": {},
   "outputs": [
    {
     "name": "stdout",
     "output_type": "stream",
     "text": [
      "0\n"
     ]
    },
    {
     "name": "stderr",
     "output_type": "stream",
     "text": [
      "/opt/homebrew/lib/python3.9/site-packages/numpy/core/fromnumeric.py:86: VisibleDeprecationWarning: Creating an ndarray from ragged nested sequences (which is a list-or-tuple of lists-or-tuples-or ndarrays with different lengths or shapes) is deprecated. If you meant to do this, you must specify 'dtype=object' when creating the ndarray.\n",
      "  return ufunc.reduce(obj, axis, dtype, out, **passkwargs)\n"
     ]
    },
    {
     "ename": "ValueError",
     "evalue": "could not broadcast input array from shape (1222,1222) into shape (1222,)",
     "output_type": "error",
     "traceback": [
      "\u001b[0;31m---------------------------------------------------------------------------\u001b[0m",
      "\u001b[0;31mValueError\u001b[0m                                Traceback (most recent call last)",
      "Input \u001b[0;32mIn [224]\u001b[0m, in \u001b[0;36m<cell line: 5>\u001b[0;34m()\u001b[0m\n\u001b[1;32m      1\u001b[0m \u001b[38;5;28mprint\u001b[39m(np\u001b[38;5;241m.\u001b[39mtrace(G1\u001b[38;5;241m.\u001b[39madj_matrix))\n\u001b[1;32m      3\u001b[0m eigenvalues \u001b[38;5;241m=\u001b[39m np\u001b[38;5;241m.\u001b[39mlinalg\u001b[38;5;241m.\u001b[39meig(G\u001b[38;5;241m.\u001b[39madj_matrix)\n\u001b[0;32m----> 5\u001b[0m \u001b[38;5;28mprint\u001b[39m(\u001b[43mnp\u001b[49m\u001b[38;5;241;43m.\u001b[39;49m\u001b[43msum\u001b[49m\u001b[43m(\u001b[49m\u001b[43meigenvalues\u001b[49m\u001b[43m)\u001b[49m)\n",
      "File \u001b[0;32m<__array_function__ internals>:180\u001b[0m, in \u001b[0;36msum\u001b[0;34m(*args, **kwargs)\u001b[0m\n",
      "File \u001b[0;32m/opt/homebrew/lib/python3.9/site-packages/numpy/core/fromnumeric.py:2298\u001b[0m, in \u001b[0;36msum\u001b[0;34m(a, axis, dtype, out, keepdims, initial, where)\u001b[0m\n\u001b[1;32m   2295\u001b[0m         \u001b[38;5;28;01mreturn\u001b[39;00m out\n\u001b[1;32m   2296\u001b[0m     \u001b[38;5;28;01mreturn\u001b[39;00m res\n\u001b[0;32m-> 2298\u001b[0m \u001b[38;5;28;01mreturn\u001b[39;00m \u001b[43m_wrapreduction\u001b[49m\u001b[43m(\u001b[49m\u001b[43ma\u001b[49m\u001b[43m,\u001b[49m\u001b[43m \u001b[49m\u001b[43mnp\u001b[49m\u001b[38;5;241;43m.\u001b[39;49m\u001b[43madd\u001b[49m\u001b[43m,\u001b[49m\u001b[43m \u001b[49m\u001b[38;5;124;43m'\u001b[39;49m\u001b[38;5;124;43msum\u001b[39;49m\u001b[38;5;124;43m'\u001b[39;49m\u001b[43m,\u001b[49m\u001b[43m \u001b[49m\u001b[43maxis\u001b[49m\u001b[43m,\u001b[49m\u001b[43m \u001b[49m\u001b[43mdtype\u001b[49m\u001b[43m,\u001b[49m\u001b[43m \u001b[49m\u001b[43mout\u001b[49m\u001b[43m,\u001b[49m\u001b[43m \u001b[49m\u001b[43mkeepdims\u001b[49m\u001b[38;5;241;43m=\u001b[39;49m\u001b[43mkeepdims\u001b[49m\u001b[43m,\u001b[49m\n\u001b[1;32m   2299\u001b[0m \u001b[43m                      \u001b[49m\u001b[43minitial\u001b[49m\u001b[38;5;241;43m=\u001b[39;49m\u001b[43minitial\u001b[49m\u001b[43m,\u001b[49m\u001b[43m \u001b[49m\u001b[43mwhere\u001b[49m\u001b[38;5;241;43m=\u001b[39;49m\u001b[43mwhere\u001b[49m\u001b[43m)\u001b[49m\n",
      "File \u001b[0;32m/opt/homebrew/lib/python3.9/site-packages/numpy/core/fromnumeric.py:86\u001b[0m, in \u001b[0;36m_wrapreduction\u001b[0;34m(obj, ufunc, method, axis, dtype, out, **kwargs)\u001b[0m\n\u001b[1;32m     83\u001b[0m         \u001b[38;5;28;01melse\u001b[39;00m:\n\u001b[1;32m     84\u001b[0m             \u001b[38;5;28;01mreturn\u001b[39;00m reduction(axis\u001b[38;5;241m=\u001b[39maxis, out\u001b[38;5;241m=\u001b[39mout, \u001b[38;5;241m*\u001b[39m\u001b[38;5;241m*\u001b[39mpasskwargs)\n\u001b[0;32m---> 86\u001b[0m \u001b[38;5;28;01mreturn\u001b[39;00m \u001b[43mufunc\u001b[49m\u001b[38;5;241;43m.\u001b[39;49m\u001b[43mreduce\u001b[49m\u001b[43m(\u001b[49m\u001b[43mobj\u001b[49m\u001b[43m,\u001b[49m\u001b[43m \u001b[49m\u001b[43maxis\u001b[49m\u001b[43m,\u001b[49m\u001b[43m \u001b[49m\u001b[43mdtype\u001b[49m\u001b[43m,\u001b[49m\u001b[43m \u001b[49m\u001b[43mout\u001b[49m\u001b[43m,\u001b[49m\u001b[43m \u001b[49m\u001b[38;5;241;43m*\u001b[39;49m\u001b[38;5;241;43m*\u001b[39;49m\u001b[43mpasskwargs\u001b[49m\u001b[43m)\u001b[49m\n",
      "\u001b[0;31mValueError\u001b[0m: could not broadcast input array from shape (1222,1222) into shape (1222,)"
     ]
    }
   ],
   "source": [
    "print(np.trace(G1.adj_matrix))\n",
    "\n",
    "eigenvalues = np.linalg.eigvalsh(G.adj_matrix)\n",
    "\n",
    "print(np.sum(eigenvalues))"
   ]
  },
  {
   "cell_type": "code",
   "execution_count": null,
   "metadata": {},
   "outputs": [],
   "source": []
  }
 ],
 "metadata": {
  "kernelspec": {
   "display_name": "Python 3",
   "language": "python",
   "name": "python3"
  },
  "language_info": {
   "codemirror_mode": {
    "name": "ipython",
    "version": 3
   },
   "file_extension": ".py",
   "mimetype": "text/x-python",
   "name": "python",
   "nbconvert_exporter": "python",
   "pygments_lexer": "ipython3",
   "version": "3.9.18"
  }
 },
 "nbformat": 4,
 "nbformat_minor": 2
}
