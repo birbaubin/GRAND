{
 "cells": [
  {
   "cell_type": "markdown",
   "metadata": {},
   "source": [
    "# Scratch code for testing purposes and small experiments. \n"
   ]
  },
  {
   "cell_type": "code",
   "execution_count": 31,
   "metadata": {},
   "outputs": [
    {
     "name": "stdout",
     "output_type": "stream",
     "text": [
      "The autoreload extension is already loaded. To reload it, use:\n",
      "  %reload_ext autoreload\n"
     ]
    }
   ],
   "source": [
    "\n",
    "import numpy as np\n",
    "import importlib\n",
    "from Graph import Graph\n",
    "from helpers import *\n",
    "import pandas as pd\n",
    "import random\n",
    "from tqdm import tqdm\n",
    "from deterministic_attack import DeterministicAttack\n",
    "from revisited_spectral import RevisitedSpectral\n",
    "from erdos import SpectralAttack\n",
    "\n",
    "\n",
    "%load_ext autoreload\n",
    "%autoreload 2"
   ]
  },
  {
   "cell_type": "markdown",
   "metadata": {},
   "source": [
    "# Exploring the spectral approach"
   ]
  },
  {
   "cell_type": "code",
   "execution_count": 32,
   "metadata": {},
   "outputs": [
    {
     "name": "stdout",
     "output_type": "stream",
     "text": [
      "(516, 516)\n",
      "1188\n"
     ]
    }
   ],
   "source": [
    "dataset = \"cora\"\n",
    "G = Graph.from_txt(f\"datasets/{dataset}.txt\")\n",
    "G1, G2 = G.split_dataset(common_prop=0.0, graph1_prop=0.0)\n",
    "A = np.dot(G.adj_matrix, G.adj_matrix.T)\n",
    "\n",
    "print(G.adj_matrix.shape)\n",
    "print(len(G.edges()))"
   ]
  },
  {
   "cell_type": "markdown",
   "metadata": {},
   "source": [
    "## Deterministic -> Heuristic -> Deterministic "
   ]
  },
  {
   "cell_type": "code",
   "execution_count": 33,
   "metadata": {},
   "outputs": [
    {
     "name": "stderr",
     "output_type": "stream",
     "text": [
      "Degree attack: 100%|██████████| 516/516 [00:00<00:00, 4146.08it/s]\n",
      "Matching attacks: 100%|██████████| 516/516 [00:03<00:00, 149.73it/s]\n",
      "Completion attacks: 100%|██████████| 516/516 [00:03<00:00, 152.05it/s]\n",
      "Rectangle attack:: 100%|██████████| 10/10 [00:00<00:00, 1892.57it/s]\n",
      "Triangle attack: 100%|██████████| 119/119 [00:00<00:00, 6793.37it/s]\n"
     ]
    },
    {
     "name": "stdout",
     "output_type": "stream",
     "text": [
      "+------+--------+\n",
      "| Stat | Value  |\n",
      "+------+--------+\n",
      "|  0s  | 11186  |\n",
      "|  1s  |  238   |\n",
      "|  ?s  | 254832 |\n",
      "+------+--------+ \n",
      "\n"
     ]
    },
    {
     "name": "stderr",
     "output_type": "stream",
     "text": [
      "Matching attacks: 100%|██████████| 516/516 [00:02<00:00, 193.87it/s]\n",
      "Completion attacks: 100%|██████████| 516/516 [00:02<00:00, 204.88it/s]\n",
      "Rectangle attack:: 100%|██████████| 10/10 [00:00<00:00, 1770.57it/s]\n",
      "Triangle attack: 100%|██████████| 119/119 [00:00<00:00, 7065.22it/s]\n"
     ]
    },
    {
     "name": "stdout",
     "output_type": "stream",
     "text": [
      "+------+--------+\n",
      "| Stat | Value  |\n",
      "+------+--------+\n",
      "|  0s  | 91928  |\n",
      "|  1s  |  238   |\n",
      "|  ?s  | 174090 |\n",
      "+------+--------+ \n",
      "\n"
     ]
    },
    {
     "name": "stderr",
     "output_type": "stream",
     "text": [
      "Matching attacks: 100%|██████████| 516/516 [00:02<00:00, 189.86it/s]\n",
      "Completion attacks: 100%|██████████| 516/516 [00:02<00:00, 211.25it/s]\n",
      "Rectangle attack:: 100%|██████████| 10/10 [00:00<00:00, 1562.94it/s]\n",
      "Triangle attack: 100%|██████████| 119/119 [00:00<00:00, 7734.73it/s]\n"
     ]
    },
    {
     "name": "stdout",
     "output_type": "stream",
     "text": [
      "+------+--------+\n",
      "| Stat | Value  |\n",
      "+------+--------+\n",
      "|  0s  | 91928  |\n",
      "|  1s  |  238   |\n",
      "|  ?s  | 174090 |\n",
      "+------+--------+ \n",
      "\n"
     ]
    },
    {
     "name": "stderr",
     "output_type": "stream",
     "text": [
      "Revisited spectral attack: 100%|██████████| 516/516 [00:06<00:00, 76.91it/s]\n"
     ]
    },
    {
     "name": "stdout",
     "output_type": "stream",
     "text": [
      "Errors after revisited: 27\n",
      "Before sanity check: (2359, 10, 263870, 17)\n",
      "Updated 13456 edges in G*\n",
      "After sanity check: (2250, 0, 253296, 0)\n"
     ]
    },
    {
     "name": "stderr",
     "output_type": "stream",
     "text": [
      "Degree attack: 100%|██████████| 516/516 [00:00<00:00, 2979.54it/s]\n",
      "Matching attacks: 100%|██████████| 516/516 [00:03<00:00, 130.10it/s]\n",
      "Completion attacks: 100%|██████████| 516/516 [00:02<00:00, 197.74it/s]\n",
      "Rectangle attack:: 100%|██████████| 10/10 [00:00<00:00, 130.56it/s]\n",
      "Triangle attack: 100%|██████████| 1163/1163 [00:00<00:00, 11083.59it/s]\n"
     ]
    },
    {
     "name": "stdout",
     "output_type": "stream",
     "text": [
      "+------+--------+\n",
      "| Stat | Value  |\n",
      "+------+--------+\n",
      "|  0s  | 263118 |\n",
      "|  1s  |  2326  |\n",
      "|  ?s  |  812   |\n",
      "+------+--------+ \n",
      "\n"
     ]
    },
    {
     "name": "stderr",
     "output_type": "stream",
     "text": [
      "Matching attacks: 100%|██████████| 516/516 [00:04<00:00, 113.48it/s]\n",
      "Completion attacks: 100%|██████████| 516/516 [00:02<00:00, 186.81it/s]\n",
      "Rectangle attack:: 100%|██████████| 10/10 [00:00<00:00, 75.90it/s]\n",
      "Triangle attack: 100%|██████████| 1176/1176 [00:00<00:00, 6531.84it/s]\n"
     ]
    },
    {
     "name": "stdout",
     "output_type": "stream",
     "text": [
      "+------+--------+\n",
      "| Stat | Value  |\n",
      "+------+--------+\n",
      "|  0s  | 263638 |\n",
      "|  1s  |  2352  |\n",
      "|  ?s  |  266   |\n",
      "+------+--------+ \n",
      "\n"
     ]
    },
    {
     "name": "stderr",
     "output_type": "stream",
     "text": [
      "Matching attacks: 100%|██████████| 516/516 [00:03<00:00, 129.08it/s]\n",
      "Completion attacks: 100%|██████████| 516/516 [00:02<00:00, 236.84it/s]\n",
      "Rectangle attack:: 100%|██████████| 10/10 [00:00<00:00, 124.43it/s]\n",
      "Triangle attack: 100%|██████████| 1181/1181 [00:00<00:00, 8118.01it/s]\n"
     ]
    },
    {
     "name": "stdout",
     "output_type": "stream",
     "text": [
      "+------+--------+\n",
      "| Stat | Value  |\n",
      "+------+--------+\n",
      "|  0s  | 263822 |\n",
      "|  1s  |  2362  |\n",
      "|  ?s  |   72   |\n",
      "+------+--------+ \n",
      "\n"
     ]
    },
    {
     "name": "stderr",
     "output_type": "stream",
     "text": [
      "Matching attacks: 100%|██████████| 516/516 [00:03<00:00, 135.15it/s]\n",
      "Completion attacks: 100%|██████████| 516/516 [00:02<00:00, 226.04it/s]\n",
      "Rectangle attack:: 100%|██████████| 10/10 [00:00<00:00, 142.00it/s]\n",
      "Triangle attack: 100%|██████████| 1181/1181 [00:00<00:00, 10131.69it/s]\n"
     ]
    },
    {
     "name": "stdout",
     "output_type": "stream",
     "text": [
      "+------+--------+\n",
      "| Stat | Value  |\n",
      "+------+--------+\n",
      "|  0s  | 263840 |\n",
      "|  1s  |  2362  |\n",
      "|  ?s  |   54   |\n",
      "+------+--------+ \n",
      "\n"
     ]
    },
    {
     "name": "stderr",
     "output_type": "stream",
     "text": [
      "Matching attacks: 100%|██████████| 516/516 [00:03<00:00, 132.95it/s]\n",
      "Completion attacks: 100%|██████████| 516/516 [00:02<00:00, 236.21it/s]\n",
      "Rectangle attack:: 100%|██████████| 10/10 [00:00<00:00, 67.05it/s]\n",
      "Triangle attack: 100%|██████████| 1181/1181 [00:00<00:00, 9775.12it/s]\n"
     ]
    },
    {
     "name": "stdout",
     "output_type": "stream",
     "text": [
      "+------+--------+\n",
      "| Stat | Value  |\n",
      "+------+--------+\n",
      "|  0s  | 263840 |\n",
      "|  1s  |  2362  |\n",
      "|  ?s  |   54   |\n",
      "+------+--------+ \n",
      "\n",
      "Errors : 14\n"
     ]
    }
   ],
   "source": [
    "deter = DeterministicAttack(G1, A)\n",
    "deter.run()\n",
    "Gstar = deter.get_reconstructed_graph()\n",
    "\n",
    "proba = RevisitedSpectral(Gstar, A)\n",
    "n_nodes = Gstar.adj_matrix.shape[0]\n",
    "proba.run_bis(alpha=0.0, beta=0.0, gamma=0.0)\n",
    "Gstar = proba.get_reconstructed_graph()\n",
    "print(\"Errors after revisited:\", np.sum(np.abs(Gstar.adj_matrix - G.adj_matrix)))\n",
    "stats = ROC_stats(Gstar, G)\n",
    "print(\"Before sanity check:\", stats)\n",
    "forgotten_slots = proba.sanity_check_with_high_loss()\n",
    "Gstar = proba.get_reconstructed_graph()\n",
    "stats = ROC_stats(Gstar, G)\n",
    "print(\"After sanity check:\", stats)\n",
    "\n",
    "deter = DeterministicAttack(Gstar, A)\n",
    "deter.run()\n",
    "Gstar = deter.get_reconstructed_graph()\n",
    "# proba = RevisitedSpectral(Gstar, A)\n",
    "# proba.run(alpha=0.0, beta=0.0, gamma=0.0)\n",
    "# Gstar = proba.get_reconstructed_graph()\n",
    "# print(\"Errors after revisited:\", np.sum(np.abs(Gstar.adj_matrix - G.adj_matrix)))\n",
    "# stats = ROC_stats(Gstar, G)\n",
    "# print(\"Before sanity check:\", stats)\n",
    "# forgotten_slots = proba.sanity_check_with_high_loss()\n",
    "# Gstar = proba.get_reconstructed_graph()\n",
    "# stats = ROC_stats(Gstar, G)\n",
    "# print(\"After sanity check:\", stats)\n",
    "# deter = DeterministicAttack(Gstar, A)\n",
    "# deter.run()\n",
    "Gstar = deter.get_reconstructed_graph()\n",
    "Gstar_fixed = Gstar.copy()\n",
    "Gstar_fixed.fix_edges()\n",
    "print(\"Errors :\", np.sum(np.abs(Gstar_fixed.adj_matrix - G.adj_matrix)))\n",
    "\n",
    "\n"
   ]
  },
  {
   "cell_type": "code",
   "execution_count": 34,
   "metadata": {},
   "outputs": [
    {
     "name": "stdout",
     "output_type": "stream",
     "text": [
      "(2362, 0, 263880, 14)\n"
     ]
    }
   ],
   "source": [
    "stats = ROC_stats(Gstar_fixed, G)\n",
    "print(stats)"
   ]
  },
  {
   "cell_type": "markdown",
   "metadata": {},
   "source": [
    "## Erdos method"
   ]
  },
  {
   "cell_type": "code",
   "execution_count": 35,
   "metadata": {},
   "outputs": [
    {
     "name": "stderr",
     "output_type": "stream",
     "text": [
      "100%|██████████| 516/516 [00:04<00:00, 110.68it/s]"
     ]
    },
    {
     "name": "stdout",
     "output_type": "stream",
     "text": [
      "Errors after erdos: 32\n"
     ]
    },
    {
     "name": "stderr",
     "output_type": "stream",
     "text": [
      "\n"
     ]
    }
   ],
   "source": [
    "proba = SpectralAttack(A)\n",
    "proba.run()\n",
    "Gstar = proba.get_reconstructed_graph()\n",
    "print(\"Errors after erdos:\", np.sum(np.abs(Gstar.adj_matrix - G.adj_matrix)))"
   ]
  },
  {
   "cell_type": "markdown",
   "metadata": {},
   "source": [
    "## Analysis "
   ]
  },
  {
   "cell_type": "code",
   "execution_count": 36,
   "metadata": {},
   "outputs": [
    {
     "name": "stdout",
     "output_type": "stream",
     "text": [
      " --- Hub ----: 110\n",
      "Node : 484, degree in A : 2, degree in A_prime : 1\n",
      "Node : 337, degree in A : 2, degree in A_prime : 1\n",
      "Node : 285, degree in A : 2, degree in A_prime : 1\n",
      "Node : 445, degree in A : 2, degree in A_prime : 1\n",
      " --- Hub ----: 112\n",
      "Node : 294, degree in A : 2, degree in A_prime : 1\n",
      "Node : 233, degree in A : 2, degree in A_prime : 1\n",
      "Node : 138, degree in A : 2, degree in A_prime : 1\n",
      "Node : 367, degree in A : 2, degree in A_prime : 1\n",
      "Node : 115, degree in A : 2, degree in A_prime : 1\n",
      "Node : 116, degree in A : 2, degree in A_prime : 1\n",
      " --- Hub ----: 251\n",
      "Node : 267, degree in A : 2, degree in A_prime : 1\n",
      "Node : 333, degree in A : 2, degree in A_prime : 1\n",
      "Node : 248, degree in A : 2, degree in A_prime : 1\n",
      "Node : 126, degree in A : 2, degree in A_prime : 1\n"
     ]
    }
   ],
   "source": [
    "# Identifying the components of the graph that are not reconstructed\n",
    "\n",
    "A_prime = np.dot(Gstar_fixed.adj_matrix, Gstar_fixed.adj_matrix.T)\n",
    "slots_of_error = np.argwhere(A != A_prime)\n",
    "nodes_of_error = set()\n",
    "for i, j in slots_of_error:\n",
    "    nodes_of_error.add(i)\n",
    "    nodes_of_error.add(j)\n",
    "\n",
    "nodes_of_error = list(nodes_of_error)\n",
    "\n",
    "components = {}\n",
    "hubs = []\n",
    "for node in nodes_of_error:\n",
    "    if A[node, node] == A_prime[node, node]:\n",
    "        hubs.append(node)\n",
    "\n",
    "\n",
    "for hub in hubs:\n",
    "    components[hub] = []\n",
    "    for node in nodes_of_error:\n",
    "        if A[hub, node] != A_prime[hub, node]:\n",
    "            components[hub].append(node)\n",
    "\n",
    "\n",
    "for hub, nodes in components.items():\n",
    "    print(f\" --- Hub ----: {hub}\")\n",
    "    for node in nodes:\n",
    "        print(f\"Node : {node}, degree in A : {A[node, node]}, degree in A_prime : {A_prime[node, node]}\")\n",
    "\n",
    "# G_prime_1 = Gstar_fixed.copy()\n",
    "# G_prime_2 = Gstar_fixed.copy()\n",
    "\n",
    "# for hub, nodes in components.items():\n",
    "#     G_prime_1.add_edge((nodes[0], nodes[1]))\n",
    "#     G_prime_1.add_edge((nodes[2], nodes[3]))    \n",
    "\n",
    "#     G_prime_2.add_edge((nodes[0], nodes[3]))\n",
    "#     G_prime_2.add_edge((nodes[1], nodes[2]))\n",
    "\n",
    "#     if len(nodes) > 4:\n",
    "#         G_prime_1.add_edge((nodes[4], nodes[5]))\n",
    "#         G_prime_2.add_edge((nodes[4], nodes[5]))\n",
    "\n",
    "# A_prime_1 = np.dot(G_prime_1.adj_matrix, G_prime_1.adj_matrix.T)\n",
    "# A_prime_2 = np.dot(G_prime_2.adj_matrix, G_prime_2.adj_matrix.T)\n",
    "\n",
    "\n",
    "# G_prime_1.to_txt(f\"datasets/{dataset}_prime_1.txt\")\n",
    "# G_prime_2.to_txt(f\"datasets/{dataset}_prime_2.txt\")\n",
    "# print(\"Errors after fixing:\", np.sum(np.abs(A - A_prime_1)), np.sum(np.abs(A - A_prime_2)))\n"
   ]
  },
  {
   "cell_type": "code",
   "execution_count": 37,
   "metadata": {},
   "outputs": [],
   "source": [
    "\n",
    "dataset = \"bio-diseasome\"\n",
    "G_prime_1 = Graph.from_txt(f\"datasets/{dataset}_prime_1.txt\")\n",
    "G_prime_2 = Graph.from_txt(f\"datasets/{dataset}_prime_2.txt\")"
   ]
  },
  {
   "cell_type": "code",
   "execution_count": null,
   "metadata": {},
   "outputs": [],
   "source": []
  },
  {
   "cell_type": "code",
   "execution_count": 38,
   "metadata": {},
   "outputs": [
    {
     "name": "stdout",
     "output_type": "stream",
     "text": [
      " --- Hub ----: 110\n",
      "484 [110 445]\n",
      "337 [110 285]\n",
      "285 [110 337]\n",
      "445 [110 484]\n",
      " --- Hub ----: 112\n",
      "294 [112 233]\n",
      "233 [112 294]\n",
      "138 [112 367]\n",
      "367 [112 138]\n",
      "115 [112 116]\n",
      "116 [112 115]\n",
      " --- Hub ----: 251\n",
      "267 [126 251]\n",
      "333 [248 251]\n",
      "248 [251 333]\n",
      "126 [251 267]\n"
     ]
    }
   ],
   "source": [
    "for hub, nodes in components.items():\n",
    "    print(f\" --- Hub ----: {hub}\")\n",
    "    for node in nodes:\n",
    "        print(node, G.neighbors(node))"
   ]
  },
  {
   "cell_type": "code",
   "execution_count": null,
   "metadata": {},
   "outputs": [],
   "source": []
  }
 ],
 "metadata": {
  "kernelspec": {
   "display_name": "Python 3",
   "language": "python",
   "name": "python3"
  },
  "language_info": {
   "codemirror_mode": {
    "name": "ipython",
    "version": 3
   },
   "file_extension": ".py",
   "mimetype": "text/x-python",
   "name": "python",
   "nbconvert_exporter": "python",
   "pygments_lexer": "ipython3",
   "version": "3.9.19"
  }
 },
 "nbformat": 4,
 "nbformat_minor": 2
}
