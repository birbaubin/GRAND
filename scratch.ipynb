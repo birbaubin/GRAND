{
 "cells": [
  {
   "cell_type": "markdown",
   "metadata": {},
   "source": [
    "# Scratch code for testing purposes and small experiments. \n"
   ]
  },
  {
   "cell_type": "code",
   "execution_count": 40,
   "metadata": {},
   "outputs": [
    {
     "name": "stdout",
     "output_type": "stream",
     "text": [
      "The autoreload extension is already loaded. To reload it, use:\n",
      "  %reload_ext autoreload\n"
     ]
    }
   ],
   "source": [
    "\n",
    "import numpy as np\n",
    "import importlib\n",
    "from Graph import Graph\n",
    "from helpers import *\n",
    "import pandas as pd\n",
    "import random\n",
    "from tqdm import tqdm\n",
    "from deterministic_attack import DeterministicAttack\n",
    "from revisited_spectral import RevisitedSpectral\n",
    "\n",
    "\n",
    "%load_ext autoreload\n",
    "%autoreload 2"
   ]
  },
  {
   "cell_type": "markdown",
   "metadata": {},
   "source": [
    "## Block matrix generation"
   ]
  },
  {
   "cell_type": "code",
   "execution_count": 8,
   "metadata": {},
   "outputs": [],
   "source": [
    "\n",
    "block = Graph.block_from_txt(\"datasets/block.txt\")\n",
    "\n",
    "p_flip = 0.1\n",
    "\n",
    "for i in range(0, block.first_partition_size):\n",
    "    for j in range(block.first_partition_size+1, block.adj_matrix.shape[1]):\n",
    "        if block.adj_matrix[i, j] == 1 and np.random.rand() < p_flip:\n",
    "                block.adj_matrix[i, j] = not block.adj_matrix[i, j]\n",
    "                block.adj_matrix[j, i] = not block.adj_matrix[j, i]\n",
    "\n",
    "        elif block.adj_matrix[i, j] == 0 and np.random.rand() < p_flip:\n",
    "                block.adj_matrix[i, j] = not block.adj_matrix[i, j]\n",
    "                block.adj_matrix[j, i] = not block.adj_matrix[j, i]\n",
    "\n",
    "block.to_txt(f\"datasets/block_{p_flip}.txt\")\n",
    "\n",
    "\n"
   ]
  },
  {
   "cell_type": "markdown",
   "metadata": {},
   "source": [
    "## Exploring the spectral approach"
   ]
  },
  {
   "cell_type": "code",
   "execution_count": 11,
   "metadata": {},
   "outputs": [],
   "source": []
  },
  {
   "cell_type": "code",
   "execution_count": 61,
   "metadata": {},
   "outputs": [],
   "source": [
    "dataset = \"netscience\"\n",
    "G = Graph.from_txt(f\"datasets/{dataset}.txt\")\n",
    "G1, G2 = G.split_dataset(common_prop=0.0, graph1_prop=0.0)\n",
    "A = np.dot(G.adj_matrix, G.adj_matrix.T)"
   ]
  },
  {
   "cell_type": "code",
   "execution_count": 66,
   "metadata": {},
   "outputs": [
    {
     "name": "stderr",
     "output_type": "stream",
     "text": [
      "Degree attack: 100%|██████████| 379/379 [00:00<00:00, 10113.89it/s]\n",
      "Matching attacks: 100%|██████████| 379/379 [00:00<00:00, 888.02it/s]\n",
      "Completion attacks: 100%|██████████| 379/379 [00:00<00:00, 826.91it/s]\n",
      "Rectangle attack:: 100%|██████████| 5/5 [00:00<00:00, 6820.01it/s]\n",
      "Triangle attack: 100%|██████████| 90/90 [00:00<00:00, 17491.65it/s]\n"
     ]
    },
    {
     "name": "stdout",
     "output_type": "stream",
     "text": [
      "+-------------------------------+-------+\n",
      "|              Stat             | Value |\n",
      "+-------------------------------+-------+\n",
      "|   Number of impossible edges  |  3051 |\n",
      "| Number of reconstructed edges |   90  |\n",
      "|    Number of unknown edges    | 68869 |\n",
      "+-------------------------------+-------+ \n",
      "\n"
     ]
    },
    {
     "name": "stderr",
     "output_type": "stream",
     "text": [
      "Matching attacks: 100%|██████████| 379/379 [00:00<00:00, 776.07it/s]\n",
      "Completion attacks: 100%|██████████| 379/379 [00:00<00:00, 924.28it/s]\n",
      "Rectangle attack:: 100%|██████████| 5/5 [00:00<00:00, 8253.25it/s]\n",
      "Triangle attack: 100%|██████████| 90/90 [00:00<00:00, 18118.81it/s]\n"
     ]
    },
    {
     "name": "stdout",
     "output_type": "stream",
     "text": [
      "+-------------------------------+-------+\n",
      "|              Stat             | Value |\n",
      "+-------------------------------+-------+\n",
      "|   Number of impossible edges  | 22548 |\n",
      "| Number of reconstructed edges |   90  |\n",
      "|    Number of unknown edges    | 49372 |\n",
      "+-------------------------------+-------+ \n",
      "\n"
     ]
    },
    {
     "name": "stderr",
     "output_type": "stream",
     "text": [
      "Matching attacks: 100%|██████████| 379/379 [00:00<00:00, 837.85it/s]\n",
      "Completion attacks: 100%|██████████| 379/379 [00:00<00:00, 924.58it/s]\n",
      "Rectangle attack:: 100%|██████████| 5/5 [00:00<00:00, 7484.48it/s]\n",
      "Triangle attack: 100%|██████████| 90/90 [00:00<00:00, 17258.14it/s]\n"
     ]
    },
    {
     "name": "stdout",
     "output_type": "stream",
     "text": [
      "+-------------------------------+-------+\n",
      "|              Stat             | Value |\n",
      "+-------------------------------+-------+\n",
      "|   Number of impossible edges  | 22548 |\n",
      "| Number of reconstructed edges |   90  |\n",
      "|    Number of unknown edges    | 49372 |\n",
      "+-------------------------------+-------+ \n",
      "\n"
     ]
    },
    {
     "name": "stderr",
     "output_type": "stream",
     "text": [
      "Revisited spectral attack: 100%|██████████| 379/379 [00:01<00:00, 362.94it/s]\n"
     ]
    },
    {
     "name": "stdout",
     "output_type": "stream",
     "text": [
      "Updated 54406 edges in G*\n"
     ]
    },
    {
     "name": "stderr",
     "output_type": "stream",
     "text": [
      "Degree attack: 100%|██████████| 379/379 [00:00<00:00, 4521.05it/s]\n",
      "Matching attacks: 100%|██████████| 379/379 [00:00<00:00, 534.41it/s]\n",
      "Completion attacks: 100%|██████████| 379/379 [00:00<00:00, 944.47it/s]\n",
      "Rectangle attack:: 100%|██████████| 5/5 [00:00<00:00, 466.72it/s]\n",
      "Triangle attack: 100%|██████████| 834/834 [00:00<00:00, 30247.12it/s]\n"
     ]
    },
    {
     "name": "stdout",
     "output_type": "stream",
     "text": [
      "+-------------------------------+-------+\n",
      "|              Stat             | Value |\n",
      "+-------------------------------+-------+\n",
      "|   Number of impossible edges  | 70375 |\n",
      "| Number of reconstructed edges |  834  |\n",
      "|    Number of unknown edges    |  801  |\n",
      "+-------------------------------+-------+ \n",
      "\n"
     ]
    },
    {
     "name": "stderr",
     "output_type": "stream",
     "text": [
      "Matching attacks: 100%|██████████| 379/379 [00:00<00:00, 573.74it/s]\n",
      "Completion attacks: 100%|██████████| 379/379 [00:00<00:00, 989.05it/s]\n",
      "Rectangle attack:: 100%|██████████| 5/5 [00:00<00:00, 495.20it/s]\n",
      "Triangle attack: 100%|██████████| 841/841 [00:00<00:00, 28738.17it/s]\n"
     ]
    },
    {
     "name": "stdout",
     "output_type": "stream",
     "text": [
      "+-------------------------------+-------+\n",
      "|              Stat             | Value |\n",
      "+-------------------------------+-------+\n",
      "|   Number of impossible edges  | 70898 |\n",
      "| Number of reconstructed edges |  841  |\n",
      "|    Number of unknown edges    |  271  |\n",
      "+-------------------------------+-------+ \n",
      "\n"
     ]
    },
    {
     "name": "stderr",
     "output_type": "stream",
     "text": [
      "Matching attacks: 100%|██████████| 379/379 [00:00<00:00, 572.76it/s]\n",
      "Completion attacks: 100%|██████████| 379/379 [00:00<00:00, 995.82it/s]\n",
      "Rectangle attack:: 100%|██████████| 5/5 [00:00<00:00, 497.46it/s]\n",
      "Triangle attack: 100%|██████████| 855/855 [00:00<00:00, 30047.17it/s]\n"
     ]
    },
    {
     "name": "stdout",
     "output_type": "stream",
     "text": [
      "+-------------------------------+-------+\n",
      "|              Stat             | Value |\n",
      "+-------------------------------+-------+\n",
      "|   Number of impossible edges  | 70938 |\n",
      "| Number of reconstructed edges |  855  |\n",
      "|    Number of unknown edges    |  217  |\n",
      "+-------------------------------+-------+ \n",
      "\n"
     ]
    },
    {
     "name": "stderr",
     "output_type": "stream",
     "text": [
      "Matching attacks: 100%|██████████| 379/379 [00:00<00:00, 499.53it/s]\n",
      "Completion attacks: 100%|██████████| 379/379 [00:00<00:00, 966.46it/s]\n",
      "Rectangle attack:: 100%|██████████| 5/5 [00:00<00:00, 493.62it/s]\n",
      "Triangle attack: 100%|██████████| 872/872 [00:00<00:00, 28651.14it/s]\n"
     ]
    },
    {
     "name": "stdout",
     "output_type": "stream",
     "text": [
      "+-------------------------------+-------+\n",
      "|              Stat             | Value |\n",
      "+-------------------------------+-------+\n",
      "|   Number of impossible edges  | 70994 |\n",
      "| Number of reconstructed edges |  872  |\n",
      "|    Number of unknown edges    |  144  |\n",
      "+-------------------------------+-------+ \n",
      "\n"
     ]
    },
    {
     "name": "stderr",
     "output_type": "stream",
     "text": [
      "Matching attacks: 100%|██████████| 379/379 [00:00<00:00, 566.99it/s]\n",
      "Completion attacks: 100%|██████████| 379/379 [00:00<00:00, 989.23it/s]\n",
      "Rectangle attack:: 100%|██████████| 5/5 [00:00<00:00, 466.08it/s]\n",
      "Triangle attack: 100%|██████████| 901/901 [00:00<00:00, 30652.36it/s]\n"
     ]
    },
    {
     "name": "stdout",
     "output_type": "stream",
     "text": [
      "+-------------------------------+-------+\n",
      "|              Stat             | Value |\n",
      "+-------------------------------+-------+\n",
      "|   Number of impossible edges  | 71076 |\n",
      "| Number of reconstructed edges |  901  |\n",
      "|    Number of unknown edges    |   33  |\n",
      "+-------------------------------+-------+ \n",
      "\n"
     ]
    },
    {
     "name": "stderr",
     "output_type": "stream",
     "text": [
      "Matching attacks: 100%|██████████| 379/379 [00:00<00:00, 563.83it/s]\n",
      "Completion attacks: 100%|██████████| 379/379 [00:00<00:00, 993.63it/s]\n",
      "Rectangle attack:: 100%|██████████| 5/5 [00:00<00:00, 477.52it/s]\n",
      "Triangle attack: 100%|██████████| 905/905 [00:00<00:00, 30315.35it/s]\n"
     ]
    },
    {
     "name": "stdout",
     "output_type": "stream",
     "text": [
      "+-------------------------------+-------+\n",
      "|              Stat             | Value |\n",
      "+-------------------------------+-------+\n",
      "|   Number of impossible edges  | 71081 |\n",
      "| Number of reconstructed edges |  905  |\n",
      "|    Number of unknown edges    |   24  |\n",
      "+-------------------------------+-------+ \n",
      "\n"
     ]
    },
    {
     "name": "stderr",
     "output_type": "stream",
     "text": [
      "Matching attacks: 100%|██████████| 379/379 [00:00<00:00, 553.83it/s]\n",
      "Completion attacks: 100%|██████████| 379/379 [00:00<00:00, 975.54it/s]\n",
      "Rectangle attack:: 100%|██████████| 5/5 [00:00<00:00, 483.00it/s]\n",
      "Triangle attack: 100%|██████████| 908/908 [00:00<00:00, 18009.48it/s]\n"
     ]
    },
    {
     "name": "stdout",
     "output_type": "stream",
     "text": [
      "+-------------------------------+-------+\n",
      "|              Stat             | Value |\n",
      "+-------------------------------+-------+\n",
      "|   Number of impossible edges  | 71084 |\n",
      "| Number of reconstructed edges |  908  |\n",
      "|    Number of unknown edges    |   18  |\n",
      "+-------------------------------+-------+ \n",
      "\n"
     ]
    },
    {
     "name": "stderr",
     "output_type": "stream",
     "text": [
      "Matching attacks: 100%|██████████| 379/379 [00:00<00:00, 560.72it/s]\n",
      "Completion attacks: 100%|██████████| 379/379 [00:00<00:00, 977.54it/s]\n",
      "Rectangle attack:: 100%|██████████| 5/5 [00:00<00:00, 484.78it/s]\n",
      "Triangle attack: 100%|██████████| 908/908 [00:00<00:00, 30084.27it/s]"
     ]
    },
    {
     "name": "stdout",
     "output_type": "stream",
     "text": [
      "+-------------------------------+-------+\n",
      "|              Stat             | Value |\n",
      "+-------------------------------+-------+\n",
      "|   Number of impossible edges  | 71084 |\n",
      "| Number of reconstructed edges |  908  |\n",
      "|    Number of unknown edges    |   18  |\n",
      "+-------------------------------+-------+ \n",
      "\n",
      "Errors:  60\n"
     ]
    },
    {
     "name": "stderr",
     "output_type": "stream",
     "text": [
      "\n"
     ]
    }
   ],
   "source": [
    "deterministic_ttack = DeterministicAttack(G1, A)\n",
    "deterministic_ttack.run()\n",
    "reconstructed_graph = deterministic_ttack.get_reconstructed_graph()\n",
    "\n",
    "probabilistic_attack = RevisitedSpectral(reconstructed_graph, A)\n",
    "probabilistic_attack.run(alpha=1, beta=1, threshold=0.5)\n",
    "reconstructed_graph = probabilistic_attack.get_reconstructed_graph()\n",
    "probabilistic_attack.sanity_check()\n",
    "reconstructed_graph = probabilistic_attack.get_reconstructed_graph()\n",
    "\n",
    "deterministic_ttack = DeterministicAttack(reconstructed_graph, A)\n",
    "deterministic_ttack.run()\n",
    "reconstructed_graph = deterministic_ttack.get_reconstructed_graph()\n",
    "reconstructed_graph.fix_edges()\n",
    "print(\"Errors: \", np.sum(np.abs(reconstructed_graph.adj_matrix - G.adj_matrix)))\n",
    "\n",
    "\n"
   ]
  },
  {
   "cell_type": "markdown",
   "metadata": {},
   "source": [
    "### Sign assignment"
   ]
  },
  {
   "cell_type": "markdown",
   "metadata": {},
   "source": [
    "### Revisited sign assignment"
   ]
  },
  {
   "cell_type": "markdown",
   "metadata": {},
   "source": [
    "# Erdos et al."
   ]
  },
  {
   "cell_type": "code",
   "execution_count": 63,
   "metadata": {},
   "outputs": [
    {
     "ename": "NameError",
     "evalue": "name 'erdos' is not defined",
     "output_type": "error",
     "traceback": [
      "\u001b[0;31m---------------------------------------------------------------------------\u001b[0m",
      "\u001b[0;31mNameError\u001b[0m                                 Traceback (most recent call last)",
      "Input \u001b[0;32mIn [63]\u001b[0m, in \u001b[0;36m<cell line: 1>\u001b[0;34m()\u001b[0m\n\u001b[0;32m----> 1\u001b[0m reconstructed_graph \u001b[38;5;241m=\u001b[39m \u001b[43merdos\u001b[49m(A, threshold\u001b[38;5;241m=\u001b[39m\u001b[38;5;241m0.5\u001b[39m)\n\u001b[1;32m      2\u001b[0m \u001b[38;5;28mprint\u001b[39m(\u001b[38;5;124m\"\u001b[39m\u001b[38;5;124mErrors: \u001b[39m\u001b[38;5;124m\"\u001b[39m, np\u001b[38;5;241m.\u001b[39msum(np\u001b[38;5;241m.\u001b[39mabs(reconstructed_graph \u001b[38;5;241m-\u001b[39m G\u001b[38;5;241m.\u001b[39madj_matrix)))\n",
      "\u001b[0;31mNameError\u001b[0m: name 'erdos' is not defined"
     ]
    }
   ],
   "source": [
    "reconstructed_graph = erdos(A, threshold=0.5)\n",
    "print(\"Errors: \", np.sum(np.abs(reconstructed_graph - G.adj_matrix)))"
   ]
  },
  {
   "cell_type": "markdown",
   "metadata": {},
   "source": [
    "# Deterministic - Probabilistic"
   ]
  },
  {
   "cell_type": "code",
   "execution_count": 23,
   "metadata": {},
   "outputs": [
    {
     "name": "stderr",
     "output_type": "stream",
     "text": [
      "Degree attack: 100%|██████████| 3025/3025 [00:00<00:00, 18709.11it/s]\n",
      "Matching attacks: 100%|██████████| 3025/3025 [01:25<00:00, 35.18it/s] \n",
      "Completion attacks: 100%|██████████| 3025/3025 [02:00<00:00, 25.15it/s] \n",
      "Rectangle attack:: 100%|██████████| 200/200 [00:00<00:00, 18124.60it/s]\n",
      "Triangle attack: 0it [00:00, ?it/s]\n"
     ]
    },
    {
     "name": "stdout",
     "output_type": "stream",
     "text": [
      "+-------------------------------+---------+\n",
      "|              Stat             |  Value  |\n",
      "+-------------------------------+---------+\n",
      "|   Number of impossible edges  |   3025  |\n",
      "| Number of reconstructed edges |    0    |\n",
      "|    Number of unknown edges    | 4573800 |\n",
      "+-------------------------------+---------+ \n",
      "\n"
     ]
    },
    {
     "name": "stderr",
     "output_type": "stream",
     "text": [
      "GRAND: 100%|██████████| 3025/3025 [5:10:02<00:00,  6.15s/it]      \n"
     ]
    },
    {
     "name": "stdout",
     "output_type": "stream",
     "text": [
      "Errors:  345\n"
     ]
    }
   ],
   "source": [
    "reconstructed_graph = graph1_copy(G1)\n",
    "reconstructed_graph, number_modifs_degree = degree_attack(reconstructed_graph, A , [1, 2])\n",
    "reconstructed_graph = deterministics(reconstructed_graph, A)\n",
    "reconstructed_graph = Graph.from_adj_matrix(GRAND(A, reconstructed_graph, 0.5, 1, len(G.edges()) / 1000))\n",
    "print(\"Errors: \", np.sum(np.abs(reconstructed_graph.adj_matrix - G.adj_matrix)))"
   ]
  },
  {
   "cell_type": "markdown",
   "metadata": {},
   "source": [
    "# Deterministic - Probabilistic - Deterministic"
   ]
  },
  {
   "cell_type": "code",
   "execution_count": 24,
   "metadata": {},
   "outputs": [
    {
     "name": "stderr",
     "output_type": "stream",
     "text": [
      "Degree attack: 100%|██████████| 3025/3025 [00:00<00:00, 18403.14it/s]\n",
      "Matching attacks: 100%|██████████| 3025/3025 [01:21<00:00, 37.09it/s] \n",
      "Completion attacks: 100%|██████████| 3025/3025 [01:48<00:00, 27.94it/s] \n",
      "Rectangle attack:: 100%|██████████| 200/200 [00:00<00:00, 32388.45it/s]\n",
      "Triangle attack: 0it [00:00, ?it/s]\n"
     ]
    },
    {
     "name": "stdout",
     "output_type": "stream",
     "text": [
      "+-------------------------------+---------+\n",
      "|              Stat             |  Value  |\n",
      "+-------------------------------+---------+\n",
      "|   Number of impossible edges  |   3025  |\n",
      "| Number of reconstructed edges |    0    |\n",
      "|    Number of unknown edges    | 4573800 |\n",
      "+-------------------------------+---------+ \n",
      "\n"
     ]
    },
    {
     "name": "stderr",
     "output_type": "stream",
     "text": [
      "GRAND: 100%|██████████| 3025/3025 [10:08<00:00,  4.97it/s]\n"
     ]
    },
    {
     "name": "stdout",
     "output_type": "stream",
     "text": [
      "Errors:  352\n"
     ]
    },
    {
     "name": "stderr",
     "output_type": "stream",
     "text": [
      "Matching attacks: 100%|██████████| 3025/3025 [02:18<00:00, 21.88it/s] \n",
      "Completion attacks: 100%|██████████| 3025/3025 [01:23<00:00, 36.18it/s] \n",
      "Rectangle attack:: 100%|██████████| 200/200 [00:00<00:00, 2087.51it/s]\n",
      "Triangle attack: 100%|██████████| 13002/13002 [00:00<00:00, 15189.40it/s]\n"
     ]
    },
    {
     "name": "stdout",
     "output_type": "stream",
     "text": [
      "+-------------------------------+---------+\n",
      "|              Stat             |  Value  |\n",
      "+-------------------------------+---------+\n",
      "|   Number of impossible edges  | 4549882 |\n",
      "| Number of reconstructed edges |  13002  |\n",
      "|    Number of unknown edges    |  13941  |\n",
      "+-------------------------------+---------+ \n",
      "\n"
     ]
    },
    {
     "name": "stderr",
     "output_type": "stream",
     "text": [
      "Matching attacks: 100%|██████████| 3025/3025 [02:18<00:00, 21.87it/s] \n",
      "Completion attacks: 100%|██████████| 3025/3025 [01:28<00:00, 34.23it/s] \n",
      "Rectangle attack:: 100%|██████████| 200/200 [00:00<00:00, 1927.38it/s]\n",
      "Triangle attack: 100%|██████████| 13002/13002 [00:00<00:00, 15247.48it/s]\n"
     ]
    },
    {
     "name": "stdout",
     "output_type": "stream",
     "text": [
      "+-------------------------------+---------+\n",
      "|              Stat             |  Value  |\n",
      "+-------------------------------+---------+\n",
      "|   Number of impossible edges  | 4553002 |\n",
      "| Number of reconstructed edges |  13002  |\n",
      "|    Number of unknown edges    |  10821  |\n",
      "+-------------------------------+---------+ \n",
      "\n"
     ]
    },
    {
     "name": "stderr",
     "output_type": "stream",
     "text": [
      "Matching attacks: 100%|██████████| 3025/3025 [02:19<00:00, 21.66it/s] \n",
      "Completion attacks: 100%|██████████| 3025/3025 [01:23<00:00, 36.08it/s] \n",
      "Rectangle attack:: 100%|██████████| 200/200 [00:00<00:00, 1193.25it/s]\n",
      "Triangle attack: 100%|██████████| 13002/13002 [00:00<00:00, 15150.49it/s]\n"
     ]
    },
    {
     "name": "stdout",
     "output_type": "stream",
     "text": [
      "+-------------------------------+---------+\n",
      "|              Stat             |  Value  |\n",
      "+-------------------------------+---------+\n",
      "|   Number of impossible edges  | 4553002 |\n",
      "| Number of reconstructed edges |  13002  |\n",
      "|    Number of unknown edges    |  10821  |\n",
      "+-------------------------------+---------+ \n",
      "\n",
      "Errors:  348\n"
     ]
    }
   ],
   "source": [
    "reconstructed_graph = graph1_copy(G1)\n",
    "reconstructed_graph, number_modifs_degree = degree_attack(reconstructed_graph, A , [1, 2])\n",
    "for i in range(1):\n",
    "    nodes_to_forget = set()\n",
    "    links = set()\n",
    "    reconstructed_graph = deterministics(reconstructed_graph, A)\n",
    "    last_deter = reconstructed_graph.copy()\n",
    "    r = reconstructed_graph.copy()\n",
    "    reconstructed_graph = Graph.from_adj_matrix(GRAND(A, reconstructed_graph, 0.5, 1, 1))\n",
    "    print(\"Errors: \", np.sum(np.abs(reconstructed_graph.adj_matrix - G.adj_matrix)))\n",
    "\n",
    "    A_prime = np.dot(reconstructed_graph.adj_matrix, reconstructed_graph.adj_matrix.T)\n",
    "    for i in range(A.shape[0]):\n",
    "        for j in range(i, A.shape[1]):\n",
    "            if A[i, j] != A_prime[i, j] and A[i, i] == A_prime[i, i]:\n",
    "                for k in range(A.shape[0]):\n",
    "                    reconstructed_graph.adj_matrix[j, k] = 2\n",
    "                    reconstructed_graph.adj_matrix[k, j] = 2\n",
    "                    nodes_to_forget.add(j)\n",
    "            if A[i, j] != A_prime[i, j] and A[j, j] == A_prime[j, j]:\n",
    "                for k in range(A.shape[0]):\n",
    "                    reconstructed_graph.adj_matrix[i, k] = 2\n",
    "                    reconstructed_graph.adj_matrix[k, i] = 2\n",
    "                    nodes_to_forget.add(i)\n",
    "\n",
    "    for i in range(A.shape[0]):\n",
    "        for j in range(A.shape[1]):\n",
    "            if last_deter.adj_matrix[i, j] != 2:\n",
    "                reconstructed_graph.adj_matrix[i, j] = last_deter.adj_matrix[i, j]\n",
    "\n",
    "\n",
    "reconstructed_graph = deterministics(reconstructed_graph, A)\n",
    "\n",
    "reconstructed_graph.fix_edges()\n",
    "print(\"Errors: \", np.sum(np.abs(reconstructed_graph.adj_matrix - G.adj_matrix)))\n"
   ]
  },
  {
   "cell_type": "markdown",
   "metadata": {},
   "source": [
    "# Experiments on graphs with the same G^2"
   ]
  },
  {
   "cell_type": "code",
   "execution_count": null,
   "metadata": {},
   "outputs": [],
   "source": [
    "import pandas as pd\n",
    "\n",
    "g1 = pd.read_csv(\"datasets/josee.txt\", sep=\"\\t\", header=None)\n",
    " \n",
    "\n",
    "g2_matrix = np.array([[0, 0, 0, 0, 1, 0, 1, 0, 1, 0, 0, 0],\n",
    "                    [0, 0, 0, 0, 0, 1, 0, 1, 0, 1, 0, 0],\n",
    "                    [0, 0, 0, 0, 0, 0, 1, 0, 1, 0, 1, 0],\n",
    "                    [0, 0, 0, 0, 0, 0, 0, 1, 0, 1, 0, 1],\n",
    "                    [1, 0, 0, 0, 0, 0, 0, 0, 1, 0, 1, 0],\n",
    "                    [0, 1, 0, 0, 0, 0, 0, 0, 0, 1, 0, 1],\n",
    "                    [1, 0, 1, 0, 0, 0, 0, 0, 0, 0, 1, 0],\n",
    "                    [0, 1, 0, 1, 0, 0, 0, 0, 0, 0, 0, 1],\n",
    "                    [1, 0, 1, 0, 1, 0, 0, 0, 0, 0, 0, 0],\n",
    "                    [0, 1, 0, 1, 0, 1, 0, 0, 0, 0, 0, 0],\n",
    "                    [0, 0, 1, 0, 1, 0, 1, 0, 0, 0, 0, 0],\n",
    "                    [0, 0, 0, 1, 0, 1, 0, 1, 0, 0, 0, 0],\n",
    "                    ])\n",
    "\n",
    "\n",
    "g1_matrix = Graph.from_txt(\"datasets/josee.txt\").adj_matrix\n",
    "# perm_1 = [0, 2, 4, 6, 8, 10, 1, 3, 5, 7, 9, 11]\n",
    "# perm_2 = [1, 3, 5, 7, 9, 11, 0, 2, 4, 6, 8, 10]\n",
    "\n",
    "g1_matrix_perm = g1_matrix[perm_1, :][:, perm_1]\n",
    "g2_matrix_perm = g2_matrix[perm_2, :][:, perm_2]\n",
    "\n",
    "\n",
    "G_square_1 = np.dot(g1_matrix, g1_matrix)\n",
    "G_square_2 = np.dot(g2_matrix, g2_matrix)\n",
    "# print(G_square_1)\n",
    "# print(G_square_2)\n",
    "\n",
    "\n",
    "\n",
    "\n",
    "rec = erdos(G_square, 0.5)\n",
    "rec_perm1 = rec[perm_1, :][:, perm_1]\n",
    "\n",
    "rec_pol = erdos(A, 0.5)\n",
    "\n",
    "print(\"Errors G : \", np.linalg.norm(rec_pol - G.adj_matrix) ** 2)\n",
    "\n"
   ]
  },
  {
   "cell_type": "code",
   "execution_count": null,
   "metadata": {},
   "outputs": [],
   "source": []
  }
 ],
 "metadata": {
  "kernelspec": {
   "display_name": "Python 3",
   "language": "python",
   "name": "python3"
  },
  "language_info": {
   "codemirror_mode": {
    "name": "ipython",
    "version": 3
   },
   "file_extension": ".py",
   "mimetype": "text/x-python",
   "name": "python",
   "nbconvert_exporter": "python",
   "pygments_lexer": "ipython3",
   "version": "3.9.19"
  }
 },
 "nbformat": 4,
 "nbformat_minor": 2
}
