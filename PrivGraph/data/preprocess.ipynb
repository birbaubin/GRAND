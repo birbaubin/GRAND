{
 "cells": [
  {
   "cell_type": "code",
   "execution_count": 5,
   "metadata": {},
   "outputs": [
    {
     "name": "stdout",
     "output_type": "stream",
     "text": [
      "        0    1\n",
      "0     343    0\n",
      "1     286    1\n",
      "2     186    2\n",
      "3     475    2\n",
      "4     193    3\n",
      "...   ...  ...\n",
      "1183  489  475\n",
      "1184  485  478\n",
      "1185  496  491\n",
      "1186  510  492\n",
      "1187  507  506\n",
      "\n",
      "[1188 rows x 2 columns]\n"
     ]
    }
   ],
   "source": [
    "import pandas as pd \n",
    "\n",
    "dataset_name = \"bio-diseasome\"\n",
    "data = pd.read_csv(f\"../../datasets/{dataset_name}.txt\", sep=\"\\t\", header=None)\n",
    "\n",
    "data = data.drop(columns=[2])\n",
    "\n",
    "data[0] = data[0] - 1\n",
    "data[1] = data[1] - 1\n",
    "\n",
    "print(data)\n",
    "\n",
    "# data \n",
    "data.to_csv(f\"./{dataset_name}_preprocessed.txt\", index=False, sep=\" \", header=False)"
   ]
  },
  {
   "cell_type": "code",
   "execution_count": null,
   "metadata": {},
   "outputs": [],
   "source": []
  }
 ],
 "metadata": {
  "kernelspec": {
   "display_name": "venv",
   "language": "python",
   "name": "python3"
  },
  "language_info": {
   "codemirror_mode": {
    "name": "ipython",
    "version": 3
   },
   "file_extension": ".py",
   "mimetype": "text/x-python",
   "name": "python",
   "nbconvert_exporter": "python",
   "pygments_lexer": "ipython3",
   "version": "3.11.2"
  }
 },
 "nbformat": 4,
 "nbformat_minor": 2
}
