{
 "cells": [
  {
   "cell_type": "code",
   "execution_count": 27,
   "metadata": {},
   "outputs": [
    {
     "name": "stdout",
     "output_type": "stream",
     "text": [
      "||G* - G || = 24545.999999999996\n",
      "RAE = 0.051193386113173533\n"
     ]
    }
   ],
   "source": [
    "\n",
    "\n",
    "import numpy as np\n",
    "import pandas as pd\n",
    "\n",
    "\n",
    "\n",
    "graph_sizes = {\n",
    "    \"acm\": (3025, 13128),\n",
    "    \"polblogs\": (1222, 16714),\n",
    "    \"flickr\": (7575, 239738),\n",
    "    \"cora\": (2485, 5096),\n",
    "}\n",
    "def is_pos_def(x):\n",
    "    return np.all(np.linalg.eigvals(x) > 0)\n",
    "\n",
    "\n",
    "# m1 = np.array([[0, 1, 0, 1, 0, 1, 0, 1, 0, 0],\n",
    "#                     [1, 0, 1, 1, 1, 0, 0, 0, 0, 0],\n",
    "#                     [0, 1, 0, 0, 1, 0, 1, 0, 0, 1],\n",
    "#                     [1, 1, 0, 0, 0, 1, 0, 1, 0, 0],\n",
    "#                     [0, 1, 1, 0, 0, 0, 1, 0, 0, 1],\n",
    "#                     [1, 0, 0, 1, 0, 0, 0, 0, 1, 1],\n",
    "#                     [0, 0, 1, 0, 1, 0, 0, 1, 1, 0],\n",
    "#                     [1, 0, 0, 1, 0, 0, 1, 0, 1, 0],\n",
    "#                     [0, 0, 0, 0, 0, 1, 1, 1, 0, 1],\n",
    "#                     [0, 0, 1, 0, 1, 1, 0, 0, 1, 0]])\n",
    "\n",
    "\n",
    "# m2 = np.array([[0, 1, 0, 1, 0, 0, 1, 1, 0, 0],\n",
    "#                     [1, 0, 1, 1, 1, 0, 0, 0, 0, 0],\n",
    "#                     [0, 1, 0, 0, 1, 1, 0, 0, 0, 1],\n",
    "#                     [1, 1, 0, 0, 0, 1, 0, 1, 0, 0],\n",
    "#                     [0, 1, 1, 0, 0, 0, 1, 0, 0, 1],\n",
    "#                     [0, 0, 1, 1, 0, 0, 0, 1, 1, 0],\n",
    "#                     [1, 0, 0, 0, 1, 0, 0, 0, 1, 1],\n",
    "#                     [1, 0, 0, 1, 0, 1, 0, 0, 1, 0],\n",
    "#                     [0, 0, 0, 0, 0, 1, 1, 1, 0, 1],\n",
    "#                     [0, 0, 1, 0, 1, 0, 1, 0, 1, 0]])\n",
    "\n",
    "\n",
    "\n",
    "# A = np.dot(m2, m2.T)\n",
    "\n",
    "\n",
    "polblogs_pd = pd.read_csv('../datasets/flickr.txt', header=None, sep='\\t')\n",
    "polblogs = np.zeros((7575, 7575))\n",
    "for row in polblogs_pd.iterrows():\n",
    "    polblogs[row[1][0]-1, row[1][1]-1] = 1\n",
    "    polblogs[row[1][1]-1, row[1][0]-1] = 1\n",
    "\n",
    "rec_polplogs = pd.read_csv(f'results/flickr/M', sep='\\t', header=None).to_numpy()\n",
    "frob = np.linalg.norm(polblogs - rec_polplogs, ord=\"fro\") \n",
    "rae = frob ** 2 / (np.linalg.norm(polblogs, ord=\"fro\") ** 2)\n",
    "print(f\"||G* - G || = {frob**2}\")\n",
    "print(f\"RAE = {rae}\")\n",
    "\n"
   ]
  },
  {
   "cell_type": "code",
   "execution_count": 20,
   "metadata": {},
   "outputs": [],
   "source": [
    "polblogs_pd = pd.read_csv('../datasets/bio-diseasome.txt', header=None, sep='\\t')\n",
    "\n",
    "# switch first and second column\n",
    "polblogs_pd = polblogs_pd[[1, 0, 2]]\n",
    "new_df = pd.DataFrame()\n",
    "\n",
    "for row in polblogs_pd.iterrows():\n",
    "    new_df = pd.concat([new_df, pd.DataFrame([[row[1][0], row[1][1], row[1][2]]])])\n",
    "    new_df = pd.concat([new_df, pd.DataFrame([[row[1][1], row[1][0], row[1][2]]])])\n",
    "\n",
    "new_df.to_csv('bio-diseasome.txt', header=False, index=False, sep='\\t')"
   ]
  },
  {
   "cell_type": "code",
   "execution_count": null,
   "metadata": {},
   "outputs": [],
   "source": []
  }
 ],
 "metadata": {
  "kernelspec": {
   "display_name": "Python 3",
   "language": "python",
   "name": "python3"
  },
  "language_info": {
   "codemirror_mode": {
    "name": "ipython",
    "version": 3
   },
   "file_extension": ".py",
   "mimetype": "text/x-python",
   "name": "python",
   "nbconvert_exporter": "python",
   "pygments_lexer": "ipython3",
   "version": "3.9.19"
  }
 },
 "nbformat": 4,
 "nbformat_minor": 2
}
