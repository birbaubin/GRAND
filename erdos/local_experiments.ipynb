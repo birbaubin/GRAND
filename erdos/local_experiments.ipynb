{
 "cells": [
  {
   "cell_type": "code",
   "execution_count": 17,
   "metadata": {},
   "outputs": [
    {
     "name": "stdout",
     "output_type": "stream",
     "text": [
      "[[0. 1. 0. ... 0. 0. 0.]\n",
      " [1. 0. 0. ... 0. 0. 0.]\n",
      " [0. 0. 0. ... 0. 0. 0.]\n",
      " ...\n",
      " [0. 0. 0. ... 0. 1. 0.]\n",
      " [0. 0. 0. ... 1. 0. 0.]\n",
      " [0. 0. 0. ... 0. 0. 0.]]\n"
     ]
    }
   ],
   "source": [
    "\n",
    "\n",
    "import numpy as np\n",
    "import pandas as pd\n",
    "\n",
    "def is_pos_def(x):\n",
    "    return np.all(np.linalg.eigvals(x) > 0)\n",
    "\n",
    "\n",
    "m1 = np.array([[0, 1, 0, 1, 0, 1, 0, 1, 0, 0],\n",
    "                    [1, 0, 1, 1, 1, 0, 0, 0, 0, 0],\n",
    "                    [0, 1, 0, 0, 1, 0, 1, 0, 0, 1],\n",
    "                    [1, 1, 0, 0, 0, 1, 0, 1, 0, 0],\n",
    "                    [0, 1, 1, 0, 0, 0, 1, 0, 0, 1],\n",
    "                    [1, 0, 0, 1, 0, 0, 0, 0, 1, 1],\n",
    "                    [0, 0, 1, 0, 1, 0, 0, 1, 1, 0],\n",
    "                    [1, 0, 0, 1, 0, 0, 1, 0, 1, 0],\n",
    "                    [0, 0, 0, 0, 0, 1, 1, 1, 0, 1],\n",
    "                    [0, 0, 1, 0, 1, 1, 0, 0, 1, 0]])\n",
    "\n",
    "\n",
    "m2 = np.array([[0, 1, 0, 1, 0, 0, 1, 1, 0, 0],\n",
    "                    [1, 0, 1, 1, 1, 0, 0, 0, 0, 0],\n",
    "                    [0, 1, 0, 0, 1, 1, 0, 0, 0, 1],\n",
    "                    [1, 1, 0, 0, 0, 1, 0, 1, 0, 0],\n",
    "                    [0, 1, 1, 0, 0, 0, 1, 0, 0, 1],\n",
    "                    [0, 0, 1, 1, 0, 0, 0, 1, 1, 0],\n",
    "                    [1, 0, 0, 0, 1, 0, 0, 0, 1, 1],\n",
    "                    [1, 0, 0, 1, 0, 1, 0, 0, 1, 0],\n",
    "                    [0, 0, 0, 0, 0, 1, 1, 1, 0, 1],\n",
    "                    [0, 0, 1, 0, 1, 0, 1, 0, 1, 0]])\n",
    "\n",
    "\n",
    "edges = pd.DataFrame(columns=['source', 'target', 'weight'])\n",
    "for i in range(10):\n",
    "    for j in range(10):\n",
    "        if m1[i][j] == 1:\n",
    "            edges = pd.concat([edges, pd.DataFrame({'source': [i+1], 'target': [j+1], 'weight': [1]})])\n",
    "\n",
    "edges.to_csv('cospectral_graph1.txt', index=False, header=False, sep='\\t') \n",
    "\n",
    "edges = pd.DataFrame(columns=['source', 'target', 'weight'])\n",
    "for i in range(10):\n",
    "    for j in range(10):\n",
    "        if m2[i][j] == 1:\n",
    "            edges = pd.concat([edges, pd.DataFrame({'source': [i+1], 'target': [j+1], 'weight': [1]})])\n",
    "\n",
    "edges.to_csv('cospectral_graph2.txt', index=False, header=False, sep='\\t')\n",
    "\n",
    "\n",
    "\n",
    "polblogs_edges = pd.read_csv('../datasets/polblogs.txt', header=None, sep='\\t')\n",
    "polblogs = np.zeros((1222, 1222))\n",
    "for row in polblogs_edges.iterrows():\n",
    "    polblogs[row[1][0], row[1][1]] = 1\n",
    "    polblogs[row[1][1], row[1][0]] = 1\n",
    "\n",
    "\n",
    "\n",
    "\n",
    "\n"
   ]
  },
  {
   "cell_type": "code",
   "execution_count": null,
   "metadata": {},
   "outputs": [
    {
     "name": "stdout",
     "output_type": "stream",
     "text": [
      "|| M1* - M1 || =  56.0\n",
      "|| M2* - M2 || =  64.0\n",
      "|| M1* - M2 || =  64.0\n",
      "|| M2* - M1 || =  64.0\n",
      "|| Polblogs* - Polblogs || =  4.0\n",
      "|| M1*^2 - M1^2 || =  56.0\n",
      "|| M2*^2 - M2^2 || =  23.999999999999996\n"
     ]
    }
   ],
   "source": [
    "m1_star = pd.read_csv('code/DA_output/cospectral_graph1.txt', sep='\\t', header=None).to_numpy()\n",
    "m2_star = pd.read_csv('code/DA_output/cospectral_graph2.txt', sep='\\t', header=None).to_numpy()\n",
    "polblogs_star = pd.read_csv('code/DA_output/polblogs.txt', sep='\\t', header=None).to_numpy()\n",
    "\n",
    "m1_minus_m1_star = np.linalg.norm(m1 - m1_star, ord=\"fro\")\n",
    "m2_minus_m2_star = np.linalg.norm(m1 - m2_star, ord=\"fro\")\n",
    "polblogs_minus_polblogs_star = np.linalg.norm(polblogs - polblogs_star, ord=\"fro\")\n",
    "\n",
    "m1_minus_m2_star = np.linalg.norm(graph1 - rec_graph2_np, ord=\"fro\")\n",
    "m2_minus_m1_star = np.linalg.norm(graph2 - rec_graph1_np, ord=\"fro\")\n",
    "\n",
    "m1_square = np.dot(m1, m1.T)\n",
    "m1_star_square = np.dot(m1_star, m1_star.T)\n",
    "\n",
    "m2_square = np.dot(m2, m2.T)\n",
    "m2_star_square = np.dot(m2_star, m2_star.T)\n",
    "\n",
    "\n",
    "\n",
    "\n",
    "print(\"|| M1* - M1 || = \", m1_minus_m1_star**2)\n",
    "print(\"|| M2* - M2 || = \", m2_minus_m2_star**2)\n",
    "print(\"|| M1* - M2 || = \", m1_minus_m2_star**2)\n",
    "print(\"|| M2* - M1 || = \", m2_minus_m1_star**2)\n",
    "print(\"|| Polblogs* - Polblogs || = \", polblogs_minus_polblogs_star**2)\n",
    "print(\"|| M1*^2 - M1^2 || = \", np.linalg.norm(m1_star_square - m1_square, ord=\"fro\")**2)\n",
    "print(\"|| M2*^2 - M2^2 || = \", np.linalg.norm(m2_star_square - m2_square, ord=\"fro\")**2)\n",
    "\n",
    "# print(np.linalg.eigvals(graph1))\n",
    "# print(np.linalg.eigvals(graph2))\n",
    "\n"
   ]
  },
  {
   "cell_type": "code",
   "execution_count": null,
   "metadata": {},
   "outputs": [],
   "source": [
    "\n",
    "def random_graph(n, p):\n",
    "    adj_matrix = np.random.choice([0, 1], size=(n, n), p=[1-p, p])\n",
    "    np.fill_diagonal(adj_matrix, 0)\n",
    "    adj_matrix = np.triu(adj_matrix, k=1)\n",
    "    adj_matrix = adj_matrix + adj_matrix.T\n",
    "    return adj_matrix\n",
    "\n",
    "sizes = np.linspace(100, 1000, num=10, dtype=int, endpoint=True)\n",
    "\n",
    "for size in sizes:\n",
    "    random_G = random_graph(size, 0.1)\n",
    "    # create a dataframe with the edges\n",
    "    edges = pd.DataFrame(columns=['source', 'target', 'weight'])\n",
    "    for i in range(size):\n",
    "        for j in range(size):\n",
    "            if random_G[i][j] == 1:\n",
    "                edges = pd.concat([edges, pd.DataFrame({'source': [i+1], 'target': [j+1], 'weight': [1]})])\n",
    "\n",
    "    edges.to_csv(f'code/randoms/{size}.txt', index=False, header=False, sep='\\t')\n",
    "\n"
   ]
  },
  {
   "cell_type": "code",
   "execution_count": null,
   "metadata": {},
   "outputs": [
    {
     "name": "stdout",
     "output_type": "stream",
     "text": [
      "|| R*(100) - R(100) || = 30.999999999999996\n",
      "|| R*(200) - R(200) || = 6303.0\n",
      "|| R*(300) - R(300) || = 14480.0\n",
      "|| R*(400) - R(400) || = 27052.0\n",
      "|| R*(500) - R(500) || = 41006.0\n",
      "|| R*(600) - R(600) || = 579.0\n",
      "|| R*(700) - R(700) || = 82908.0\n",
      "|| R*(800) - R(800) || = 112228.00000000001\n",
      "|| R*(900) - R(900) || = 138134.0\n",
      "|| R*(1000) - R(1000) || = 173905.00000000003\n"
     ]
    }
   ],
   "source": [
    "for size in sizes:\n",
    "    rec_random = pd.read_csv(f'results/{size}/M', sep='\\t', header=None).to_numpy()\n",
    "    random = pd.read_csv(f'randoms/{size}.txt', sep='\\t', header=None)\n",
    "    adj_matrix = np.zeros((size, size))\n",
    "    for row in random.iterrows():\n",
    "        adj_matrix[row[1][0]-1][row[1][1]-1] = 1\n",
    "        adj_matrix[row[1][1]-1][row[1][0]-1] = 1\n",
    "\n",
    "    frob = np.linalg.norm(adj_matrix - rec_random, ord=\"fro\")\n",
    "    print(f\"|| M*({size}) - M({size}) || = {frob**2}\")"
   ]
  },
  {
   "cell_type": "code",
   "execution_count": null,
   "metadata": {},
   "outputs": [
    {
     "name": "stdout",
     "output_type": "stream",
     "text": [
      "[ 7.40820189e+01+0.00000000e+00j  5.99408643e+01+0.00000000e+00j\n",
      " -2.93661038e+01+0.00000000e+00j ... -1.78895202e-32+8.31561623e-33j\n",
      " -1.78895202e-32-8.31561623e-33j  2.46119623e-33+0.00000000e+00j]\n",
      "[ 7.4082016e+01+0.j  5.9940865e+01+0.j -2.9366104e+01+0.j ...\n",
      "  3.1631281e-32+0.j -7.9873754e-33+0.j  2.8597886e-35+0.j]\n"
     ]
    }
   ],
   "source": [
    "print(np.linalg.eigvals(rec_polblogs_np))\n",
    "print(np.linalg.eigvals(polblogs))\n"
   ]
  },
  {
   "cell_type": "code",
   "execution_count": null,
   "metadata": {},
   "outputs": [
    {
     "ename": "NameError",
     "evalue": "name 'polblogs' is not defined",
     "output_type": "error",
     "traceback": [
      "\u001b[0;31m---------------------------------------------------------------------------\u001b[0m",
      "\u001b[0;31mNameError\u001b[0m                                 Traceback (most recent call last)",
      "Input \u001b[0;32mIn [2]\u001b[0m, in \u001b[0;36m<cell line: 3>\u001b[0;34m()\u001b[0m\n\u001b[1;32m      1\u001b[0m \u001b[38;5;66;03m# compute the rank of the adjacency matrix of the polblogs graph\u001b[39;00m\n\u001b[1;32m      2\u001b[0m \u001b[38;5;28;01mimport\u001b[39;00m \u001b[38;5;21;01mnumpy\u001b[39;00m \u001b[38;5;28;01mas\u001b[39;00m \u001b[38;5;21;01mnp\u001b[39;00m\n\u001b[0;32m----> 3\u001b[0m \u001b[38;5;28mprint\u001b[39m(np\u001b[38;5;241m.\u001b[39mlinalg\u001b[38;5;241m.\u001b[39mmatrix_rank(\u001b[43mpolblogs\u001b[49m))\n",
      "\u001b[0;31mNameError\u001b[0m: name 'polblogs' is not defined"
     ]
    }
   ],
   "source": [
    "# compute the rank of the adjacency matrix of the polblogs graph\n",
    "import numpy as np\n",
    "print(np.linalg.matrix_rank(polblogs))"
   ]
  },
  {
   "cell_type": "code",
   "execution_count": null,
   "metadata": {},
   "outputs": [],
   "source": []
  }
 ],
 "metadata": {
  "kernelspec": {
   "display_name": "Python 3",
   "language": "python",
   "name": "python3"
  },
  "language_info": {
   "codemirror_mode": {
    "name": "ipython",
    "version": 3
   },
   "file_extension": ".py",
   "mimetype": "text/x-python",
   "name": "python",
   "nbconvert_exporter": "python",
   "pygments_lexer": "ipython3",
   "version": "3.9.18"
  }
 },
 "nbformat": 4,
 "nbformat_minor": 2
}
