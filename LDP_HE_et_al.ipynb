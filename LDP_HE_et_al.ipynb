{
 "cells": [
  {
   "cell_type": "markdown",
   "metadata": {},
   "source": [
    "# Imports and setup"
   ]
  },
  {
   "cell_type": "code",
   "execution_count": 41,
   "metadata": {},
   "outputs": [],
   "source": [
    "%reload_ext autoreload\n",
    "%autoreload 2\n",
    "from Graph import Graph\n",
    "import numpy as np\n",
    "from defense import *\n",
    "import matplotlib.pyplot as plt\n",
    "import seaborn as sns\n",
    "\n"
   ]
  },
  {
   "cell_type": "code",
   "execution_count": null,
   "metadata": {},
   "outputs": [
    {
     "name": "stderr",
     "output_type": "stream",
     "text": [
      "Publishing G2: 100%|██████████| 143/143 [00:01<00:00, 79.35it/s] \n",
      "Publishing G2: 100%|██████████| 143/143 [00:01<00:00, 82.65it/s] \n",
      "Publishing G2: 100%|██████████| 143/143 [00:01<00:00, 86.02it/s] \n",
      "Publishing G2: 100%|██████████| 143/143 [00:01<00:00, 88.92it/s] \n",
      "Publishing G2: 100%|██████████| 143/143 [00:01<00:00, 89.27it/s] \n",
      "Publishing G2: 100%|██████████| 143/143 [00:01<00:00, 98.80it/s] \n",
      "Publishing G2: 100%|██████████| 143/143 [00:01<00:00, 103.91it/s]\n",
      "Publishing G2: 100%|██████████| 379/379 [00:31<00:00, 12.08it/s]\n",
      "Publishing G2: 100%|██████████| 379/379 [00:31<00:00, 12.17it/s]\n",
      "Publishing G2: 100%|██████████| 379/379 [00:30<00:00, 12.60it/s]\n",
      "Publishing G2: 100%|██████████| 379/379 [00:29<00:00, 13.00it/s]\n",
      "Publishing G2: 100%|██████████| 379/379 [00:28<00:00, 13.37it/s]\n",
      "Publishing G2: 100%|██████████| 379/379 [00:26<00:00, 14.55it/s]\n",
      "Publishing G2: 100%|██████████| 379/379 [00:24<00:00, 15.23it/s]\n",
      "Publishing G2:  14%|█▍        | 74/516 [00:24<02:14,  3.27it/s]"
     ]
    }
   ],
   "source": [
    "epsilons = [0.1, 0.2, 0.5, 0.8, 1.0, 2.0, 3.0]\n",
    "datasets = [\"email\", \"netscience\", \"bio-diseasome\", \"polblogs\", \"cora\"]\n",
    "\n",
    "\n",
    "fig = plt.figure(figsize=(20, 5))\n",
    "\n",
    "for i, dataset in enumerate(datasets):\n",
    "    G = Graph.from_txt(f\"datasets/{dataset}.txt\")\n",
    "    adj = G.adjacency_matrix()\n",
    "    G2 = np.dot(adj, adj)\n",
    "\n",
    "    errors = []\n",
    "    \n",
    "    for j, epsilon in enumerate(epsilons):\n",
    "        G2prime = publish_G2(G, epsilon)\n",
    "        error = np.mean(np.abs(G2prime - G2))\n",
    "        errors.append(error)\n",
    "        \n",
    "    ax = fig.add_subplot(1, len(datasets), i + 1)\n",
    "    sns.barplot(x=epsilons, y=errors, ax=ax)\n",
    "    ax.set_xticks(range(len(epsilons)))\n",
    "    ax.set_xticklabels(epsilons)\n",
    "    ax.set_title(f\"Dataset: {dataset}\")\n",
    "    ax.set_xlabel(\"Epsilon\")\n",
    "    ax.set_ylabel(\"Mean Absolute Error\")\n",
    "    \n",
    "    \n",
    "\n",
    "\n",
    "    \n",
    "plt.show()\n",
    "\n",
    "\n",
    "\n",
    "\n",
    "\n",
    "\n"
   ]
  },
  {
   "cell_type": "code",
   "execution_count": null,
   "metadata": {},
   "outputs": [],
   "source": []
  }
 ],
 "metadata": {
  "kernelspec": {
   "display_name": "venv",
   "language": "python",
   "name": "python3"
  },
  "language_info": {
   "codemirror_mode": {
    "name": "ipython",
    "version": 3
   },
   "file_extension": ".py",
   "mimetype": "text/x-python",
   "name": "python",
   "nbconvert_exporter": "python",
   "pygments_lexer": "ipython3",
   "version": "3.9.19"
  }
 },
 "nbformat": 4,
 "nbformat_minor": 2
}
